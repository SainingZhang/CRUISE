{
 "cells": [
  {
   "cell_type": "markdown",
   "metadata": {},
   "source": [
    "# car mask"
   ]
  },
  {
   "cell_type": "code",
   "execution_count": 1,
   "metadata": {},
   "outputs": [],
   "source": [
    "specified_sequence_id = \"0022\""
   ]
  },
  {
   "cell_type": "code",
   "execution_count": 11,
   "metadata": {},
   "outputs": [],
   "source": [
    "import os, sys\n",
    "\n",
    "sys.path.append(os.getcwd())\n",
    "import argparse\n",
    "import os\n",
    "import copy\n",
    "import imageio\n",
    "import numpy as np\n",
    "import torch\n",
    "from PIL import Image, ImageDraw, ImageFont\n",
    "from torchvision.ops import box_convert\n",
    "from huggingface_hub import hf_hub_download\n",
    "from tqdm import tqdm\n",
    "from termcolor import colored\n",
    "from glob import glob\n",
    "\n",
    "# Grounding DINO\n",
    "import groundingdino.datasets.transforms as T\n",
    "from groundingdino.models import build_model\n",
    "from groundingdino.util import box_ops\n",
    "from groundingdino.util.slconfig import SLConfig\n",
    "from groundingdino.util.utils import clean_state_dict, get_phrases_from_posmap\n",
    "from groundingdino.util.inference import annotate, load_image, predict\n",
    "import supervision as sv\n",
    "\n",
    "# segment anything\n",
    "from segment_anything import build_sam, SamPredictor \n",
    "import cv2\n",
    "import numpy as np\n",
    "import matplotlib.pyplot as plt\n"
   ]
  },
  {
   "cell_type": "code",
   "execution_count": 12,
   "metadata": {},
   "outputs": [],
   "source": [
    "\n",
    "def setup(args):\n",
    "    # ======================== Load Grounding DINO model ========================\n",
    "    print(colored('Load Grounding DINO model', 'green'))\n",
    "    def load_model_hf(repo_id, filename, ckpt_config_filename, device='cpu'):\n",
    "        cache_config_file = hf_hub_download(repo_id=repo_id, filename=ckpt_config_filename)\n",
    "\n",
    "        args = SLConfig.fromfile(cache_config_file) \n",
    "        model = build_model(args)\n",
    "        args.device = device\n",
    "\n",
    "        cache_file = hf_hub_download(repo_id=repo_id, filename=filename)\n",
    "        checkpoint = torch.load(cache_file, map_location='cpu')\n",
    "        log = model.load_state_dict(clean_state_dict(checkpoint['model']), strict=False)\n",
    "        print(\"Model loaded from {} \\n => {}\".format(cache_file, log))\n",
    "        _ = model.eval()\n",
    "        return model   \n",
    "\n",
    "    # Use this command for evaluate the Grounding DINO model\n",
    "    # Or you can download the model by yourself\n",
    "    ckpt_repo_id = \"ShilongLiu/GroundingDINO\"\n",
    "    ckpt_filenmae = \"groundingdino_swinb_cogcoor.pth\"\n",
    "    ckpt_config_filename = \"GroundingDINO_SwinB.cfg.py\"\n",
    "    global groundingdino_model \n",
    "    groundingdino_model = load_model_hf(ckpt_repo_id, ckpt_filenmae, ckpt_config_filename)\n",
    "\n",
    "    # ======================== Load Segment Anything model ========================\n",
    "    print(colored('Load SAM model', 'green'))\n",
    "    sam = build_sam(checkpoint=args.sam_checkpoint)\n",
    "    sam.cuda()\n",
    "    global sam_predictor\n",
    "    sam_predictor = SamPredictor(sam)\n",
    "\n",
    "image_filename_to_cam = lambda x: int(x.split('.')[0][-1])\n",
    "image_filename_to_frame = lambda x: int(x.split('.')[0][:6])\n"
   ]
  },
  {
   "cell_type": "code",
   "execution_count": 13,
   "metadata": {},
   "outputs": [],
   "source": [
    "\n",
    "def add_to_mask_dict(masks_dict, mask_path):\n",
    "    basename = os.path.basename(mask_path)\n",
    "    cam = image_filename_to_cam(basename)\n",
    "    frame = image_filename_to_frame(basename)\n",
    "    mask = cv2.imread(mask_path) \n",
    "    if frame not in masks_dict:\n",
    "        masks_dict[frame] = [None] * 3 # FRONT_LEFT, FRONT, FRONT_RIGHT 1, 0, 2\n",
    "    if cam == 1:\n",
    "        masks_dict[frame][0] = mask\n",
    "    elif cam == 0:\n",
    "        masks_dict[frame][1] = mask\n",
    "    elif cam == 2:\n",
    "        masks_dict[frame][2] = mask\n",
    "    \n"
   ]
  },
  {
   "cell_type": "code",
   "execution_count": 22,
   "metadata": {},
   "outputs": [],
   "source": [
    "def segment_with_text_prompt(datadir, BOX_TRESHOLD, TEXT_TRESHOLD, ignore_exists):\n",
    "    save_dir = os.path.join(datadir, 'car_mask_1')\n",
    "    os.makedirs(save_dir, exist_ok=True)\n",
    "\n",
    "    image_dir = os.path.join(datadir, 'images')\n",
    "    image_files = glob(image_dir + \"/*.jpg\") \n",
    "    image_files += glob(image_dir + \"/*.png\")\n",
    "    image_files = sorted(image_files)\n",
    "    \n",
    "    masks_dict = dict()\n",
    "    for image_path in tqdm(image_files):\n",
    "        image_base_name = os.path.basename(image_path)\n",
    "        output_mask = os.path.join(save_dir, image_base_name)\n",
    "                        \n",
    "        if os.path.exists(output_mask) and ignore_exists:\n",
    "            add_to_mask_dict(masks_dict, output_mask)\n",
    "            print(f'{output_mask} exists, skip')\n",
    "            continue\n",
    "        \n",
    "        cam = image_filename_to_cam(image_base_name)\n",
    "        box_threshold = BOX_TRESHOLD[cam]\n",
    "        \n",
    "        image_source, image = load_image(image_path)\n",
    "        boxes, logits, phrases = predict(\n",
    "            model=groundingdino_model, \n",
    "            image=image, \n",
    "            caption='car. tricycle. motorcycle. pedestrian.', \n",
    "            box_threshold=box_threshold, \n",
    "            text_threshold=TEXT_TRESHOLD\n",
    "        )\n",
    "\n",
    "        print(f'detecting {boxes.shape[0]} boxed of car in {image_path}, box_threshold: {box_threshold}, logits: {logits}')\n",
    "        if boxes.shape[0] != 0:\n",
    "            H, W, _ = image_source.shape\n",
    "            boxes = box_ops.box_cxcywh_to_xyxy(boxes)\n",
    "            boxes_xyxy = boxes * torch.Tensor([W, H, W, H])\n",
    "            # assume that the box prompt for sky should be close to the top edge of the image\n",
    "            #  --------------  top edge \n",
    "            # | x ----       |\n",
    "            # | |    |       |\n",
    "            # |  ----x       |\n",
    "            #  --------------\n",
    "            # boxes_mask = boxes_xyxy[:, 1] < 100 # 100 pixels\n",
    "            # boxes_xyxy = boxes_xyxy[boxes_mask]\n",
    "        else:\n",
    "            boxes_xyxy = []\n",
    "        \n",
    "        num_boxes = len(boxes_xyxy)\n",
    "\n",
    "        if num_boxes == 0:                \n",
    "            mask = np.zeros_like(image_source[..., 0])\n",
    "        else:\n",
    "            sam_predictor.set_image(image_source)\n",
    "            transformed_boxes = sam_predictor.transform.apply_boxes_torch(boxes_xyxy, image_source.shape[:2]).cuda()\n",
    "            masks, _, _ = sam_predictor.predict_torch(\n",
    "                        point_coords = None,\n",
    "                        point_labels = None,\n",
    "                        boxes = transformed_boxes,\n",
    "                        multimask_output = False,\n",
    "                    )\n",
    "            \n",
    "            torch.cuda.empty_cache()\n",
    "            mask_final = torch.zeros_like(masks[0, 0]).bool()\n",
    "            for mask in masks[:, 0]:\n",
    "                mask_final = mask_final | mask.bool()\n",
    "                \n",
    "            mask = mask_final.cpu().numpy()\n",
    "            \n",
    "        cv2.imwrite(output_mask, mask * 255)\n",
    "        add_to_mask_dict(masks_dict, output_mask)\n"
   ]
  },
  {
   "cell_type": "code",
   "execution_count": 15,
   "metadata": {},
   "outputs": [],
   "source": [
    "class Args:\n",
    "    def __init__(self):\n",
    "        # self.datadir = f'data/dair-v2x/exp/{specified_sequence_id}_0_original'\n",
    "        self.datadir = f'/mnt/zhangsn/data/V2X-Seq-SPD-Processed/0022_exp/0022_0_original_all_seperate_with_cooperative_pointcloud'\n",
    "        self.box_threshold = [0.3]\n",
    "        self.text_threshold = 0.25\n",
    "        self.ignore_exists = ''\n",
    "        self.sam_checkpoint = '/mnt/xuhr/GroundingDINO/weights/sam_vit_h_4b8939.pth'\n",
    "        \n",
    "        \n",
    "args = Args()"
   ]
  },
  {
   "cell_type": "code",
   "execution_count": 6,
   "metadata": {},
   "outputs": [
    {
     "name": "stdout",
     "output_type": "stream",
     "text": [
      "\u001b[32mLoad Grounding DINO model\u001b[0m\n"
     ]
    },
    {
     "name": "stderr",
     "output_type": "stream",
     "text": [
      "UserWarning: torch.meshgrid: in an upcoming release, it will be required to pass the indexing argument. (Triggered internally at ../aten/src/ATen/native/TensorShape.cpp:3190.)\n"
     ]
    },
    {
     "name": "stdout",
     "output_type": "stream",
     "text": [
      "final text_encoder_type: bert-base-uncased\n"
     ]
    },
    {
     "name": "stderr",
     "output_type": "stream",
     "text": [
      "FutureWarning: `clean_up_tokenization_spaces` was not set. It will be set to `True` by default. This behavior will be depracted in transformers v4.45, and will be then set to `False` by default. For more details check this issue: https://github.com/huggingface/transformers/issues/31884\n",
      "A parameter name that contains `beta` will be renamed internally to `bias`. Please use a different name to suppress this warning.\n",
      "A parameter name that contains `gamma` will be renamed internally to `weight`. Please use a different name to suppress this warning.\n",
      "A parameter name that contains `beta` will be renamed internally to `bias`. Please use a different name to suppress this warning.\n",
      "A parameter name that contains `gamma` will be renamed internally to `weight`. Please use a different name to suppress this warning.\n",
      "A parameter name that contains `beta` will be renamed internally to `bias`. Please use a different name to suppress this warning.\n",
      "A parameter name that contains `gamma` will be renamed internally to `weight`. Please use a different name to suppress this warning.\n",
      "A parameter name that contains `beta` will be renamed internally to `bias`. Please use a different name to suppress this warning.\n",
      "A parameter name that contains `gamma` will be renamed internally to `weight`. Please use a different name to suppress this warning.\n",
      "A parameter name that contains `beta` will be renamed internally to `bias`. Please use a different name to suppress this warning.\n",
      "A parameter name that contains `gamma` will be renamed internally to `weight`. Please use a different name to suppress this warning.\n",
      "A parameter name that contains `beta` will be renamed internally to `bias`. Please use a different name to suppress this warning.\n",
      "A parameter name that contains `gamma` will be renamed internally to `weight`. Please use a different name to suppress this warning.\n",
      "A parameter name that contains `beta` will be renamed internally to `bias`. Please use a different name to suppress this warning.\n",
      "A parameter name that contains `gamma` will be renamed internally to `weight`. Please use a different name to suppress this warning.\n",
      "A parameter name that contains `beta` will be renamed internally to `bias`. Please use a different name to suppress this warning.\n",
      "A parameter name that contains `gamma` will be renamed internally to `weight`. Please use a different name to suppress this warning.\n",
      "A parameter name that contains `beta` will be renamed internally to `bias`. Please use a different name to suppress this warning.\n",
      "A parameter name that contains `gamma` will be renamed internally to `weight`. Please use a different name to suppress this warning.\n",
      "A parameter name that contains `beta` will be renamed internally to `bias`. Please use a different name to suppress this warning.\n",
      "A parameter name that contains `gamma` will be renamed internally to `weight`. Please use a different name to suppress this warning.\n",
      "A parameter name that contains `beta` will be renamed internally to `bias`. Please use a different name to suppress this warning.\n",
      "A parameter name that contains `gamma` will be renamed internally to `weight`. Please use a different name to suppress this warning.\n",
      "A parameter name that contains `beta` will be renamed internally to `bias`. Please use a different name to suppress this warning.\n",
      "A parameter name that contains `gamma` will be renamed internally to `weight`. Please use a different name to suppress this warning.\n",
      "A parameter name that contains `beta` will be renamed internally to `bias`. Please use a different name to suppress this warning.\n",
      "A parameter name that contains `gamma` will be renamed internally to `weight`. Please use a different name to suppress this warning.\n",
      "A parameter name that contains `beta` will be renamed internally to `bias`. Please use a different name to suppress this warning.\n",
      "A parameter name that contains `gamma` will be renamed internally to `weight`. Please use a different name to suppress this warning.\n",
      "A parameter name that contains `beta` will be renamed internally to `bias`. Please use a different name to suppress this warning.\n",
      "A parameter name that contains `gamma` will be renamed internally to `weight`. Please use a different name to suppress this warning.\n",
      "A parameter name that contains `beta` will be renamed internally to `bias`. Please use a different name to suppress this warning.\n",
      "A parameter name that contains `gamma` will be renamed internally to `weight`. Please use a different name to suppress this warning.\n",
      "A parameter name that contains `beta` will be renamed internally to `bias`. Please use a different name to suppress this warning.\n",
      "A parameter name that contains `gamma` will be renamed internally to `weight`. Please use a different name to suppress this warning.\n",
      "A parameter name that contains `beta` will be renamed internally to `bias`. Please use a different name to suppress this warning.\n",
      "A parameter name that contains `gamma` will be renamed internally to `weight`. Please use a different name to suppress this warning.\n",
      "A parameter name that contains `beta` will be renamed internally to `bias`. Please use a different name to suppress this warning.\n",
      "A parameter name that contains `gamma` will be renamed internally to `weight`. Please use a different name to suppress this warning.\n",
      "A parameter name that contains `beta` will be renamed internally to `bias`. Please use a different name to suppress this warning.\n",
      "A parameter name that contains `gamma` will be renamed internally to `weight`. Please use a different name to suppress this warning.\n",
      "A parameter name that contains `beta` will be renamed internally to `bias`. Please use a different name to suppress this warning.\n",
      "A parameter name that contains `gamma` will be renamed internally to `weight`. Please use a different name to suppress this warning.\n",
      "A parameter name that contains `beta` will be renamed internally to `bias`. Please use a different name to suppress this warning.\n",
      "A parameter name that contains `gamma` will be renamed internally to `weight`. Please use a different name to suppress this warning.\n",
      "A parameter name that contains `beta` will be renamed internally to `bias`. Please use a different name to suppress this warning.\n",
      "A parameter name that contains `gamma` will be renamed internally to `weight`. Please use a different name to suppress this warning.\n",
      "A parameter name that contains `beta` will be renamed internally to `bias`. Please use a different name to suppress this warning.\n",
      "A parameter name that contains `gamma` will be renamed internally to `weight`. Please use a different name to suppress this warning.\n",
      "A parameter name that contains `beta` will be renamed internally to `bias`. Please use a different name to suppress this warning.\n",
      "A parameter name that contains `gamma` will be renamed internally to `weight`. Please use a different name to suppress this warning.\n",
      "A parameter name that contains `beta` will be renamed internally to `bias`. Please use a different name to suppress this warning.\n",
      "A parameter name that contains `gamma` will be renamed internally to `weight`. Please use a different name to suppress this warning.\n"
     ]
    },
    {
     "name": "stdout",
     "output_type": "stream",
     "text": [
      "Model loaded from /home/jumpserver/.cache/huggingface/hub/models--ShilongLiu--GroundingDINO/snapshots/a94c9b567a2a374598f05c584e96798a170c56fb/groundingdino_swinb_cogcoor.pth \n",
      " => _IncompatibleKeys(missing_keys=[], unexpected_keys=['label_enc.weight', 'bert.embeddings.position_ids'])\n",
      "\u001b[32mLoad SAM model\u001b[0m\n"
     ]
    }
   ],
   "source": [
    "setup(args)\n"
   ]
  },
  {
   "cell_type": "code",
   "execution_count": 23,
   "metadata": {},
   "outputs": [
    {
     "name": "stdout",
     "output_type": "stream",
     "text": [
      "box_threshold:  [0.3, 0.3, 0.3, 0.3, 0.3]\n"
     ]
    }
   ],
   "source": [
    "\n",
    "assert isinstance(args.box_threshold, list)\n",
    "if len(args.box_threshold) == 1:\n",
    "    box_threshold = [args.box_threshold[0]] * 5\n",
    "else:\n",
    "    assert len(args.box_threshold) == 5\n",
    "    box_threshold = args.box_threshold\n",
    "print('box_threshold: ', box_threshold)\n",
    "    \n"
   ]
  },
  {
   "cell_type": "code",
   "execution_count": 24,
   "metadata": {},
   "outputs": [
    {
     "name": "stderr",
     "output_type": "stream",
     "text": [
      "  0%|          | 0/250 [00:00<?, ?it/s]FutureWarning: The `device` argument is deprecated and will be removed in v5 of Transformers.\n",
      "UserWarning: None of the inputs have requires_grad=True. Gradients will be None\n"
     ]
    },
    {
     "name": "stdout",
     "output_type": "stream",
     "text": [
      "detecting 4 boxed of car in /mnt/zhangsn/data/V2X-Seq-SPD-Processed/0022_exp/0022_0_original_all_seperate_with_cooperative_pointcloud/images/000000_0.jpg, box_threshold: 0.3, logits: tensor([0.4723, 0.4219, 0.3133, 0.4144])\n"
     ]
    },
    {
     "name": "stderr",
     "output_type": "stream",
     "text": [
      "  0%|          | 1/250 [00:00<02:49,  1.47it/s]"
     ]
    },
    {
     "name": "stdout",
     "output_type": "stream",
     "text": [
      "detecting 12 boxed of car in /mnt/zhangsn/data/V2X-Seq-SPD-Processed/0022_exp/0022_0_original_all_seperate_with_cooperative_pointcloud/images/000000_1.jpg, box_threshold: 0.3, logits: tensor([0.7056, 0.6614, 0.5590, 0.5662, 0.5308, 0.4904, 0.4445, 0.3880, 0.3363,\n",
      "        0.3124, 0.3082, 0.3367])\n"
     ]
    },
    {
     "name": "stderr",
     "output_type": "stream",
     "text": [
      "  1%|          | 2/250 [00:01<02:47,  1.48it/s]"
     ]
    },
    {
     "name": "stdout",
     "output_type": "stream",
     "text": [
      "detecting 3 boxed of car in /mnt/zhangsn/data/V2X-Seq-SPD-Processed/0022_exp/0022_0_original_all_seperate_with_cooperative_pointcloud/images/000001_0.jpg, box_threshold: 0.3, logits: tensor([0.4857, 0.4234, 0.3778])\n"
     ]
    },
    {
     "name": "stderr",
     "output_type": "stream",
     "text": [
      "  1%|          | 3/250 [00:02<02:44,  1.50it/s]"
     ]
    },
    {
     "name": "stdout",
     "output_type": "stream",
     "text": [
      "detecting 13 boxed of car in /mnt/zhangsn/data/V2X-Seq-SPD-Processed/0022_exp/0022_0_original_all_seperate_with_cooperative_pointcloud/images/000001_1.jpg, box_threshold: 0.3, logits: tensor([0.6967, 0.6525, 0.5681, 0.5431, 0.5425, 0.5356, 0.4415, 0.3901, 0.3310,\n",
      "        0.3548, 0.3007, 0.3158, 0.3104])\n"
     ]
    },
    {
     "name": "stderr",
     "output_type": "stream",
     "text": [
      "  2%|▏         | 4/250 [00:02<02:43,  1.50it/s]"
     ]
    },
    {
     "name": "stdout",
     "output_type": "stream",
     "text": [
      "detecting 5 boxed of car in /mnt/zhangsn/data/V2X-Seq-SPD-Processed/0022_exp/0022_0_original_all_seperate_with_cooperative_pointcloud/images/000002_0.jpg, box_threshold: 0.3, logits: tensor([0.4776, 0.3831, 0.4136, 0.4383, 0.3455])\n"
     ]
    },
    {
     "name": "stderr",
     "output_type": "stream",
     "text": [
      "  2%|▏         | 5/250 [00:03<02:44,  1.49it/s]"
     ]
    },
    {
     "name": "stdout",
     "output_type": "stream",
     "text": [
      "detecting 11 boxed of car in /mnt/zhangsn/data/V2X-Seq-SPD-Processed/0022_exp/0022_0_original_all_seperate_with_cooperative_pointcloud/images/000002_1.jpg, box_threshold: 0.3, logits: tensor([0.6975, 0.6381, 0.5314, 0.5731, 0.5137, 0.5175, 0.4416, 0.3822, 0.3193,\n",
      "        0.4088, 0.3148])\n"
     ]
    },
    {
     "name": "stderr",
     "output_type": "stream",
     "text": [
      "  2%|▏         | 6/250 [00:04<03:15,  1.25it/s]"
     ]
    },
    {
     "name": "stdout",
     "output_type": "stream",
     "text": [
      "detecting 6 boxed of car in /mnt/zhangsn/data/V2X-Seq-SPD-Processed/0022_exp/0022_0_original_all_seperate_with_cooperative_pointcloud/images/000003_0.jpg, box_threshold: 0.3, logits: tensor([0.3523, 0.4194, 0.3141, 0.3662, 0.4130, 0.3302])\n"
     ]
    },
    {
     "name": "stderr",
     "output_type": "stream",
     "text": [
      "  3%|▎         | 7/250 [00:05<03:37,  1.12it/s]"
     ]
    },
    {
     "name": "stdout",
     "output_type": "stream",
     "text": [
      "detecting 12 boxed of car in /mnt/zhangsn/data/V2X-Seq-SPD-Processed/0022_exp/0022_0_original_all_seperate_with_cooperative_pointcloud/images/000003_1.jpg, box_threshold: 0.3, logits: tensor([0.7018, 0.6356, 0.5321, 0.5457, 0.5653, 0.4543, 0.4423, 0.3907, 0.5171,\n",
      "        0.3096, 0.3016, 0.3028])\n"
     ]
    },
    {
     "name": "stderr",
     "output_type": "stream",
     "text": [
      "  3%|▎         | 8/250 [00:06<03:49,  1.06it/s]"
     ]
    },
    {
     "name": "stdout",
     "output_type": "stream",
     "text": [
      "detecting 5 boxed of car in /mnt/zhangsn/data/V2X-Seq-SPD-Processed/0022_exp/0022_0_original_all_seperate_with_cooperative_pointcloud/images/000004_0.jpg, box_threshold: 0.3, logits: tensor([0.5191, 0.4217, 0.4175, 0.4471, 0.3398])\n"
     ]
    },
    {
     "name": "stderr",
     "output_type": "stream",
     "text": [
      "  4%|▎         | 9/250 [00:07<03:57,  1.01it/s]"
     ]
    },
    {
     "name": "stdout",
     "output_type": "stream",
     "text": [
      "detecting 11 boxed of car in /mnt/zhangsn/data/V2X-Seq-SPD-Processed/0022_exp/0022_0_original_all_seperate_with_cooperative_pointcloud/images/000004_1.jpg, box_threshold: 0.3, logits: tensor([0.6852, 0.6408, 0.5656, 0.5248, 0.5674, 0.5869, 0.4995, 0.4415, 0.3930,\n",
      "        0.3129, 0.3035])\n"
     ]
    },
    {
     "name": "stderr",
     "output_type": "stream",
     "text": [
      "  4%|▍         | 10/250 [00:08<04:03,  1.01s/it]"
     ]
    },
    {
     "name": "stdout",
     "output_type": "stream",
     "text": [
      "detecting 4 boxed of car in /mnt/zhangsn/data/V2X-Seq-SPD-Processed/0022_exp/0022_0_original_all_seperate_with_cooperative_pointcloud/images/000005_0.jpg, box_threshold: 0.3, logits: tensor([0.4789, 0.4104, 0.3114, 0.4494])\n"
     ]
    },
    {
     "name": "stderr",
     "output_type": "stream",
     "text": [
      "  4%|▍         | 11/250 [00:09<03:51,  1.03it/s]"
     ]
    },
    {
     "name": "stdout",
     "output_type": "stream",
     "text": [
      "detecting 10 boxed of car in /mnt/zhangsn/data/V2X-Seq-SPD-Processed/0022_exp/0022_0_original_all_seperate_with_cooperative_pointcloud/images/000005_1.jpg, box_threshold: 0.3, logits: tensor([0.6839, 0.6452, 0.5607, 0.5276, 0.5570, 0.5700, 0.5098, 0.4251, 0.3769,\n",
      "        0.3042])\n"
     ]
    },
    {
     "name": "stderr",
     "output_type": "stream",
     "text": [
      "  5%|▍         | 12/250 [00:10<03:48,  1.04it/s]"
     ]
    },
    {
     "name": "stdout",
     "output_type": "stream",
     "text": [
      "detecting 5 boxed of car in /mnt/zhangsn/data/V2X-Seq-SPD-Processed/0022_exp/0022_0_original_all_seperate_with_cooperative_pointcloud/images/000006_0.jpg, box_threshold: 0.3, logits: tensor([0.4682, 0.4801, 0.3933, 0.3254, 0.4126])\n"
     ]
    },
    {
     "name": "stderr",
     "output_type": "stream",
     "text": [
      "  5%|▌         | 13/250 [00:11<03:49,  1.03it/s]"
     ]
    },
    {
     "name": "stdout",
     "output_type": "stream",
     "text": [
      "detecting 9 boxed of car in /mnt/zhangsn/data/V2X-Seq-SPD-Processed/0022_exp/0022_0_original_all_seperate_with_cooperative_pointcloud/images/000006_1.jpg, box_threshold: 0.3, logits: tensor([0.6923, 0.6461, 0.5599, 0.5330, 0.5618, 0.5172, 0.5253, 0.4448, 0.3817])\n"
     ]
    },
    {
     "name": "stderr",
     "output_type": "stream",
     "text": [
      "  6%|▌         | 14/250 [00:12<03:56,  1.00s/it]"
     ]
    },
    {
     "name": "stdout",
     "output_type": "stream",
     "text": [
      "detecting 5 boxed of car in /mnt/zhangsn/data/V2X-Seq-SPD-Processed/0022_exp/0022_0_original_all_seperate_with_cooperative_pointcloud/images/000007_0.jpg, box_threshold: 0.3, logits: tensor([0.4829, 0.4765, 0.3482, 0.3379, 0.3954])\n"
     ]
    },
    {
     "name": "stderr",
     "output_type": "stream",
     "text": [
      "  6%|▌         | 15/250 [00:13<03:59,  1.02s/it]"
     ]
    },
    {
     "name": "stdout",
     "output_type": "stream",
     "text": [
      "detecting 9 boxed of car in /mnt/zhangsn/data/V2X-Seq-SPD-Processed/0022_exp/0022_0_original_all_seperate_with_cooperative_pointcloud/images/000007_1.jpg, box_threshold: 0.3, logits: tensor([0.6879, 0.6481, 0.5447, 0.5300, 0.5402, 0.5635, 0.4929, 0.4293, 0.3772])\n"
     ]
    },
    {
     "name": "stderr",
     "output_type": "stream",
     "text": [
      "  6%|▋         | 16/250 [00:14<04:01,  1.03s/it]"
     ]
    },
    {
     "name": "stdout",
     "output_type": "stream",
     "text": [
      "detecting 5 boxed of car in /mnt/zhangsn/data/V2X-Seq-SPD-Processed/0022_exp/0022_0_original_all_seperate_with_cooperative_pointcloud/images/000008_0.jpg, box_threshold: 0.3, logits: tensor([0.5608, 0.5596, 0.5380, 0.4086, 0.3852])\n"
     ]
    },
    {
     "name": "stderr",
     "output_type": "stream",
     "text": [
      "  7%|▋         | 17/250 [00:15<04:02,  1.04s/it]"
     ]
    },
    {
     "name": "stdout",
     "output_type": "stream",
     "text": [
      "detecting 9 boxed of car in /mnt/zhangsn/data/V2X-Seq-SPD-Processed/0022_exp/0022_0_original_all_seperate_with_cooperative_pointcloud/images/000008_1.jpg, box_threshold: 0.3, logits: tensor([0.6971, 0.6658, 0.5686, 0.5331, 0.5495, 0.5455, 0.4882, 0.4134, 0.3722])\n"
     ]
    },
    {
     "name": "stderr",
     "output_type": "stream",
     "text": [
      "  7%|▋         | 18/250 [00:16<04:00,  1.04s/it]"
     ]
    },
    {
     "name": "stdout",
     "output_type": "stream",
     "text": [
      "detecting 7 boxed of car in /mnt/zhangsn/data/V2X-Seq-SPD-Processed/0022_exp/0022_0_original_all_seperate_with_cooperative_pointcloud/images/000009_0.jpg, box_threshold: 0.3, logits: tensor([0.5311, 0.5480, 0.5436, 0.3604, 0.3021, 0.4238, 0.3205])\n"
     ]
    },
    {
     "name": "stderr",
     "output_type": "stream",
     "text": [
      "  8%|▊         | 19/250 [00:17<03:45,  1.02it/s]"
     ]
    },
    {
     "name": "stdout",
     "output_type": "stream",
     "text": [
      "detecting 10 boxed of car in /mnt/zhangsn/data/V2X-Seq-SPD-Processed/0022_exp/0022_0_original_all_seperate_with_cooperative_pointcloud/images/000009_1.jpg, box_threshold: 0.3, logits: tensor([0.6865, 0.5846, 0.5274, 0.6596, 0.5627, 0.5511, 0.4886, 0.4273, 0.3845,\n",
      "        0.3112])\n"
     ]
    },
    {
     "name": "stderr",
     "output_type": "stream",
     "text": [
      "  8%|▊         | 20/250 [00:18<03:57,  1.03s/it]"
     ]
    },
    {
     "name": "stdout",
     "output_type": "stream",
     "text": [
      "detecting 6 boxed of car in /mnt/zhangsn/data/V2X-Seq-SPD-Processed/0022_exp/0022_0_original_all_seperate_with_cooperative_pointcloud/images/000010_0.jpg, box_threshold: 0.3, logits: tensor([0.5271, 0.5210, 0.5131, 0.3401, 0.4485, 0.3508])\n"
     ]
    },
    {
     "name": "stderr",
     "output_type": "stream",
     "text": [
      "  8%|▊         | 21/250 [00:19<03:58,  1.04s/it]"
     ]
    },
    {
     "name": "stdout",
     "output_type": "stream",
     "text": [
      "detecting 10 boxed of car in /mnt/zhangsn/data/V2X-Seq-SPD-Processed/0022_exp/0022_0_original_all_seperate_with_cooperative_pointcloud/images/000010_1.jpg, box_threshold: 0.3, logits: tensor([0.6844, 0.6576, 0.5888, 0.5241, 0.5502, 0.5571, 0.4934, 0.4145, 0.3837,\n",
      "        0.3166])\n"
     ]
    },
    {
     "name": "stderr",
     "output_type": "stream",
     "text": [
      "  9%|▉         | 22/250 [00:20<03:58,  1.05s/it]"
     ]
    },
    {
     "name": "stdout",
     "output_type": "stream",
     "text": [
      "detecting 5 boxed of car in /mnt/zhangsn/data/V2X-Seq-SPD-Processed/0022_exp/0022_0_original_all_seperate_with_cooperative_pointcloud/images/000011_0.jpg, box_threshold: 0.3, logits: tensor([0.5248, 0.4873, 0.5104, 0.3056, 0.4283])\n"
     ]
    },
    {
     "name": "stderr",
     "output_type": "stream",
     "text": [
      "  9%|▉         | 23/250 [00:21<03:59,  1.05s/it]"
     ]
    },
    {
     "name": "stdout",
     "output_type": "stream",
     "text": [
      "detecting 10 boxed of car in /mnt/zhangsn/data/V2X-Seq-SPD-Processed/0022_exp/0022_0_original_all_seperate_with_cooperative_pointcloud/images/000011_1.jpg, box_threshold: 0.3, logits: tensor([0.6950, 0.5928, 0.6012, 0.6631, 0.5471, 0.4709, 0.5366, 0.3661, 0.3789,\n",
      "        0.3152])\n"
     ]
    },
    {
     "name": "stderr",
     "output_type": "stream",
     "text": [
      " 10%|▉         | 24/250 [00:23<03:57,  1.05s/it]"
     ]
    },
    {
     "name": "stdout",
     "output_type": "stream",
     "text": [
      "detecting 6 boxed of car in /mnt/zhangsn/data/V2X-Seq-SPD-Processed/0022_exp/0022_0_original_all_seperate_with_cooperative_pointcloud/images/000012_0.jpg, box_threshold: 0.3, logits: tensor([0.5542, 0.5006, 0.3388, 0.4643, 0.3481, 0.4325])\n"
     ]
    },
    {
     "name": "stderr",
     "output_type": "stream",
     "text": [
      " 10%|█         | 25/250 [00:24<03:55,  1.05s/it]"
     ]
    },
    {
     "name": "stdout",
     "output_type": "stream",
     "text": [
      "detecting 10 boxed of car in /mnt/zhangsn/data/V2X-Seq-SPD-Processed/0022_exp/0022_0_original_all_seperate_with_cooperative_pointcloud/images/000012_1.jpg, box_threshold: 0.3, logits: tensor([0.6912, 0.6628, 0.5987, 0.5646, 0.5404, 0.4559, 0.3739, 0.3951, 0.5991,\n",
      "        0.3051])\n"
     ]
    },
    {
     "name": "stderr",
     "output_type": "stream",
     "text": [
      " 10%|█         | 26/250 [00:24<03:40,  1.02it/s]"
     ]
    },
    {
     "name": "stdout",
     "output_type": "stream",
     "text": [
      "detecting 7 boxed of car in /mnt/zhangsn/data/V2X-Seq-SPD-Processed/0022_exp/0022_0_original_all_seperate_with_cooperative_pointcloud/images/000013_0.jpg, box_threshold: 0.3, logits: tensor([0.5629, 0.5234, 0.3295, 0.3401, 0.4587, 0.4281, 0.3332])\n"
     ]
    },
    {
     "name": "stderr",
     "output_type": "stream",
     "text": [
      " 11%|█         | 27/250 [00:25<03:35,  1.04it/s]"
     ]
    },
    {
     "name": "stdout",
     "output_type": "stream",
     "text": [
      "detecting 11 boxed of car in /mnt/zhangsn/data/V2X-Seq-SPD-Processed/0022_exp/0022_0_original_all_seperate_with_cooperative_pointcloud/images/000013_1.jpg, box_threshold: 0.3, logits: tensor([0.7052, 0.6654, 0.6049, 0.5956, 0.5729, 0.5346, 0.4686, 0.4026, 0.3792,\n",
      "        0.3967, 0.3014])\n"
     ]
    },
    {
     "name": "stderr",
     "output_type": "stream",
     "text": [
      " 11%|█         | 28/250 [00:26<03:28,  1.07it/s]"
     ]
    },
    {
     "name": "stdout",
     "output_type": "stream",
     "text": [
      "detecting 8 boxed of car in /mnt/zhangsn/data/V2X-Seq-SPD-Processed/0022_exp/0022_0_original_all_seperate_with_cooperative_pointcloud/images/000014_0.jpg, box_threshold: 0.3, logits: tensor([0.5367, 0.5212, 0.3486, 0.3996, 0.4881, 0.4389, 0.3547, 0.3023])\n"
     ]
    },
    {
     "name": "stderr",
     "output_type": "stream",
     "text": [
      " 12%|█▏        | 29/250 [00:27<03:09,  1.17it/s]"
     ]
    },
    {
     "name": "stdout",
     "output_type": "stream",
     "text": [
      "detecting 10 boxed of car in /mnt/zhangsn/data/V2X-Seq-SPD-Processed/0022_exp/0022_0_original_all_seperate_with_cooperative_pointcloud/images/000014_1.jpg, box_threshold: 0.3, logits: tensor([0.7014, 0.6625, 0.6040, 0.6022, 0.5632, 0.5503, 0.5188, 0.4099, 0.3789,\n",
      "        0.3715])\n"
     ]
    },
    {
     "name": "stderr",
     "output_type": "stream",
     "text": [
      " 12%|█▏        | 30/250 [00:28<02:55,  1.25it/s]"
     ]
    },
    {
     "name": "stdout",
     "output_type": "stream",
     "text": [
      "detecting 8 boxed of car in /mnt/zhangsn/data/V2X-Seq-SPD-Processed/0022_exp/0022_0_original_all_seperate_with_cooperative_pointcloud/images/000015_0.jpg, box_threshold: 0.3, logits: tensor([0.5259, 0.4919, 0.3798, 0.4363, 0.4869, 0.3418, 0.3881, 0.3097])\n"
     ]
    },
    {
     "name": "stderr",
     "output_type": "stream",
     "text": [
      " 12%|█▏        | 31/250 [00:28<02:45,  1.33it/s]"
     ]
    },
    {
     "name": "stdout",
     "output_type": "stream",
     "text": [
      "detecting 13 boxed of car in /mnt/zhangsn/data/V2X-Seq-SPD-Processed/0022_exp/0022_0_original_all_seperate_with_cooperative_pointcloud/images/000015_1.jpg, box_threshold: 0.3, logits: tensor([0.6903, 0.6451, 0.6053, 0.6057, 0.5529, 0.5520, 0.5366, 0.4665, 0.3701,\n",
      "        0.3786, 0.3213, 0.3725, 0.3025])\n"
     ]
    },
    {
     "name": "stderr",
     "output_type": "stream",
     "text": [
      " 13%|█▎        | 32/250 [00:29<02:38,  1.38it/s]"
     ]
    },
    {
     "name": "stdout",
     "output_type": "stream",
     "text": [
      "detecting 7 boxed of car in /mnt/zhangsn/data/V2X-Seq-SPD-Processed/0022_exp/0022_0_original_all_seperate_with_cooperative_pointcloud/images/000016_0.jpg, box_threshold: 0.3, logits: tensor([0.5852, 0.5373, 0.3803, 0.3798, 0.4561, 0.4405, 0.3173])\n"
     ]
    },
    {
     "name": "stderr",
     "output_type": "stream",
     "text": [
      " 13%|█▎        | 33/250 [00:29<02:32,  1.42it/s]"
     ]
    },
    {
     "name": "stdout",
     "output_type": "stream",
     "text": [
      "detecting 13 boxed of car in /mnt/zhangsn/data/V2X-Seq-SPD-Processed/0022_exp/0022_0_original_all_seperate_with_cooperative_pointcloud/images/000016_1.jpg, box_threshold: 0.3, logits: tensor([0.6555, 0.6340, 0.6277, 0.7028, 0.5553, 0.5540, 0.5059, 0.5050, 0.4269,\n",
      "        0.3723, 0.3463, 0.3203, 0.3483])\n"
     ]
    },
    {
     "name": "stderr",
     "output_type": "stream",
     "text": [
      " 14%|█▎        | 34/250 [00:30<02:28,  1.45it/s]"
     ]
    },
    {
     "name": "stdout",
     "output_type": "stream",
     "text": [
      "detecting 7 boxed of car in /mnt/zhangsn/data/V2X-Seq-SPD-Processed/0022_exp/0022_0_original_all_seperate_with_cooperative_pointcloud/images/000017_0.jpg, box_threshold: 0.3, logits: tensor([0.5954, 0.4328, 0.5450, 0.4396, 0.4439, 0.3187, 0.3278])\n"
     ]
    },
    {
     "name": "stderr",
     "output_type": "stream",
     "text": [
      " 14%|█▍        | 35/250 [00:31<02:25,  1.47it/s]"
     ]
    },
    {
     "name": "stdout",
     "output_type": "stream",
     "text": [
      "detecting 15 boxed of car in /mnt/zhangsn/data/V2X-Seq-SPD-Processed/0022_exp/0022_0_original_all_seperate_with_cooperative_pointcloud/images/000017_1.jpg, box_threshold: 0.3, logits: tensor([0.6985, 0.6255, 0.6369, 0.6716, 0.5852, 0.5672, 0.4511, 0.4300, 0.3931,\n",
      "        0.5011, 0.3599, 0.3855, 0.3728, 0.3228, 0.3056])\n"
     ]
    },
    {
     "name": "stderr",
     "output_type": "stream",
     "text": [
      " 14%|█▍        | 36/250 [00:31<02:25,  1.47it/s]"
     ]
    },
    {
     "name": "stdout",
     "output_type": "stream",
     "text": [
      "detecting 7 boxed of car in /mnt/zhangsn/data/V2X-Seq-SPD-Processed/0022_exp/0022_0_original_all_seperate_with_cooperative_pointcloud/images/000018_0.jpg, box_threshold: 0.3, logits: tensor([0.6186, 0.5830, 0.4260, 0.3944, 0.3570, 0.4084, 0.3603])\n"
     ]
    },
    {
     "name": "stderr",
     "output_type": "stream",
     "text": [
      " 15%|█▍        | 37/250 [00:32<02:22,  1.49it/s]"
     ]
    },
    {
     "name": "stdout",
     "output_type": "stream",
     "text": [
      "detecting 14 boxed of car in /mnt/zhangsn/data/V2X-Seq-SPD-Processed/0022_exp/0022_0_original_all_seperate_with_cooperative_pointcloud/images/000018_1.jpg, box_threshold: 0.3, logits: tensor([0.6811, 0.6137, 0.6367, 0.6183, 0.5592, 0.5517, 0.5056, 0.5039, 0.4212,\n",
      "        0.3325, 0.3641, 0.4889, 0.3122, 0.3497])\n"
     ]
    },
    {
     "name": "stderr",
     "output_type": "stream",
     "text": [
      " 15%|█▌        | 38/250 [00:33<02:21,  1.50it/s]"
     ]
    },
    {
     "name": "stdout",
     "output_type": "stream",
     "text": [
      "detecting 8 boxed of car in /mnt/zhangsn/data/V2X-Seq-SPD-Processed/0022_exp/0022_0_original_all_seperate_with_cooperative_pointcloud/images/000019_0.jpg, box_threshold: 0.3, logits: tensor([0.6237, 0.5158, 0.5494, 0.4737, 0.3817, 0.4350, 0.3456, 0.3011])\n"
     ]
    },
    {
     "name": "stderr",
     "output_type": "stream",
     "text": [
      " 16%|█▌        | 39/250 [00:33<02:19,  1.51it/s]"
     ]
    },
    {
     "name": "stdout",
     "output_type": "stream",
     "text": [
      "detecting 12 boxed of car in /mnt/zhangsn/data/V2X-Seq-SPD-Processed/0022_exp/0022_0_original_all_seperate_with_cooperative_pointcloud/images/000019_1.jpg, box_threshold: 0.3, logits: tensor([0.6220, 0.6450, 0.6920, 0.6304, 0.5614, 0.5870, 0.6137, 0.5842, 0.5123,\n",
      "        0.4095, 0.3226, 0.3764])\n"
     ]
    },
    {
     "name": "stderr",
     "output_type": "stream",
     "text": [
      " 16%|█▌        | 40/250 [00:34<02:19,  1.51it/s]"
     ]
    },
    {
     "name": "stdout",
     "output_type": "stream",
     "text": [
      "detecting 7 boxed of car in /mnt/zhangsn/data/V2X-Seq-SPD-Processed/0022_exp/0022_0_original_all_seperate_with_cooperative_pointcloud/images/000020_0.jpg, box_threshold: 0.3, logits: tensor([0.5620, 0.5309, 0.4592, 0.4415, 0.3595, 0.3876, 0.4355])\n"
     ]
    },
    {
     "name": "stderr",
     "output_type": "stream",
     "text": [
      " 16%|█▋        | 41/250 [00:35<02:17,  1.52it/s]"
     ]
    },
    {
     "name": "stdout",
     "output_type": "stream",
     "text": [
      "detecting 12 boxed of car in /mnt/zhangsn/data/V2X-Seq-SPD-Processed/0022_exp/0022_0_original_all_seperate_with_cooperative_pointcloud/images/000020_1.jpg, box_threshold: 0.3, logits: tensor([0.6253, 0.7008, 0.5991, 0.5755, 0.5437, 0.4645, 0.4992, 0.6424, 0.6314,\n",
      "        0.4089, 0.3590, 0.3119])\n"
     ]
    },
    {
     "name": "stderr",
     "output_type": "stream",
     "text": [
      " 17%|█▋        | 42/250 [00:35<02:16,  1.52it/s]"
     ]
    },
    {
     "name": "stdout",
     "output_type": "stream",
     "text": [
      "detecting 7 boxed of car in /mnt/zhangsn/data/V2X-Seq-SPD-Processed/0022_exp/0022_0_original_all_seperate_with_cooperative_pointcloud/images/000021_0.jpg, box_threshold: 0.3, logits: tensor([0.6153, 0.5901, 0.5141, 0.5085, 0.4214, 0.3942, 0.4311])\n"
     ]
    },
    {
     "name": "stderr",
     "output_type": "stream",
     "text": [
      " 17%|█▋        | 43/250 [00:36<02:15,  1.52it/s]"
     ]
    },
    {
     "name": "stdout",
     "output_type": "stream",
     "text": [
      "detecting 12 boxed of car in /mnt/zhangsn/data/V2X-Seq-SPD-Processed/0022_exp/0022_0_original_all_seperate_with_cooperative_pointcloud/images/000021_1.jpg, box_threshold: 0.3, logits: tensor([0.6862, 0.6475, 0.6325, 0.5958, 0.6437, 0.5499, 0.5114, 0.6038, 0.4755,\n",
      "        0.5185, 0.3604, 0.3012])\n"
     ]
    },
    {
     "name": "stderr",
     "output_type": "stream",
     "text": [
      " 18%|█▊        | 44/250 [00:37<02:15,  1.52it/s]"
     ]
    },
    {
     "name": "stdout",
     "output_type": "stream",
     "text": [
      "detecting 9 boxed of car in /mnt/zhangsn/data/V2X-Seq-SPD-Processed/0022_exp/0022_0_original_all_seperate_with_cooperative_pointcloud/images/000022_0.jpg, box_threshold: 0.3, logits: tensor([0.5888, 0.5939, 0.4943, 0.5208, 0.4147, 0.4459, 0.3717, 0.3149, 0.4538])\n"
     ]
    },
    {
     "name": "stderr",
     "output_type": "stream",
     "text": [
      " 18%|█▊        | 45/250 [00:37<02:13,  1.53it/s]"
     ]
    },
    {
     "name": "stdout",
     "output_type": "stream",
     "text": [
      "detecting 13 boxed of car in /mnt/zhangsn/data/V2X-Seq-SPD-Processed/0022_exp/0022_0_original_all_seperate_with_cooperative_pointcloud/images/000022_1.jpg, box_threshold: 0.3, logits: tensor([0.6974, 0.6599, 0.6533, 0.6605, 0.6243, 0.5820, 0.5758, 0.5199, 0.3456,\n",
      "        0.5049, 0.3323, 0.3134, 0.4094])\n"
     ]
    },
    {
     "name": "stderr",
     "output_type": "stream",
     "text": [
      " 18%|█▊        | 46/250 [00:38<02:13,  1.53it/s]"
     ]
    },
    {
     "name": "stdout",
     "output_type": "stream",
     "text": [
      "detecting 9 boxed of car in /mnt/zhangsn/data/V2X-Seq-SPD-Processed/0022_exp/0022_0_original_all_seperate_with_cooperative_pointcloud/images/000023_0.jpg, box_threshold: 0.3, logits: tensor([0.6306, 0.5870, 0.5259, 0.5436, 0.4136, 0.4794, 0.4224, 0.4275, 0.3158])\n"
     ]
    },
    {
     "name": "stderr",
     "output_type": "stream",
     "text": [
      " 19%|█▉        | 47/250 [00:39<02:12,  1.53it/s]"
     ]
    },
    {
     "name": "stdout",
     "output_type": "stream",
     "text": [
      "detecting 13 boxed of car in /mnt/zhangsn/data/V2X-Seq-SPD-Processed/0022_exp/0022_0_original_all_seperate_with_cooperative_pointcloud/images/000023_1.jpg, box_threshold: 0.3, logits: tensor([0.6875, 0.6454, 0.6417, 0.6362, 0.6341, 0.5536, 0.5559, 0.5621, 0.5606,\n",
      "        0.3130, 0.5133, 0.3007, 0.3075])\n"
     ]
    },
    {
     "name": "stderr",
     "output_type": "stream",
     "text": [
      " 19%|█▉        | 48/250 [00:39<02:11,  1.53it/s]"
     ]
    },
    {
     "name": "stdout",
     "output_type": "stream",
     "text": [
      "detecting 9 boxed of car in /mnt/zhangsn/data/V2X-Seq-SPD-Processed/0022_exp/0022_0_original_all_seperate_with_cooperative_pointcloud/images/000024_0.jpg, box_threshold: 0.3, logits: tensor([0.5697, 0.5399, 0.4544, 0.4340, 0.3764, 0.4362, 0.3004, 0.3855, 0.3384])\n"
     ]
    },
    {
     "name": "stderr",
     "output_type": "stream",
     "text": [
      " 20%|█▉        | 49/250 [00:40<02:10,  1.54it/s]"
     ]
    },
    {
     "name": "stdout",
     "output_type": "stream",
     "text": [
      "detecting 12 boxed of car in /mnt/zhangsn/data/V2X-Seq-SPD-Processed/0022_exp/0022_0_original_all_seperate_with_cooperative_pointcloud/images/000024_1.jpg, box_threshold: 0.3, logits: tensor([0.6359, 0.6522, 0.6712, 0.6258, 0.6344, 0.5833, 0.5566, 0.5454, 0.4945,\n",
      "        0.3384, 0.3061, 0.5087])\n"
     ]
    },
    {
     "name": "stderr",
     "output_type": "stream",
     "text": [
      " 20%|██        | 50/250 [00:41<02:10,  1.53it/s]"
     ]
    },
    {
     "name": "stdout",
     "output_type": "stream",
     "text": [
      "detecting 10 boxed of car in /mnt/zhangsn/data/V2X-Seq-SPD-Processed/0022_exp/0022_0_original_all_seperate_with_cooperative_pointcloud/images/000025_0.jpg, box_threshold: 0.3, logits: tensor([0.6453, 0.6161, 0.5016, 0.4926, 0.4317, 0.5254, 0.3283, 0.3056, 0.3270,\n",
      "        0.3978])\n"
     ]
    },
    {
     "name": "stderr",
     "output_type": "stream",
     "text": [
      " 20%|██        | 51/250 [00:41<02:09,  1.54it/s]"
     ]
    },
    {
     "name": "stdout",
     "output_type": "stream",
     "text": [
      "detecting 14 boxed of car in /mnt/zhangsn/data/V2X-Seq-SPD-Processed/0022_exp/0022_0_original_all_seperate_with_cooperative_pointcloud/images/000025_1.jpg, box_threshold: 0.3, logits: tensor([0.6250, 0.6312, 0.6680, 0.6259, 0.6355, 0.5272, 0.5584, 0.5487, 0.4678,\n",
      "        0.3613, 0.3209, 0.3029, 0.3120, 0.4666])\n"
     ]
    },
    {
     "name": "stderr",
     "output_type": "stream",
     "text": [
      " 21%|██        | 52/250 [00:42<02:09,  1.53it/s]"
     ]
    },
    {
     "name": "stdout",
     "output_type": "stream",
     "text": [
      "detecting 8 boxed of car in /mnt/zhangsn/data/V2X-Seq-SPD-Processed/0022_exp/0022_0_original_all_seperate_with_cooperative_pointcloud/images/000026_0.jpg, box_threshold: 0.3, logits: tensor([0.6375, 0.5287, 0.4972, 0.4593, 0.4076, 0.4212, 0.5684, 0.4036])\n"
     ]
    },
    {
     "name": "stderr",
     "output_type": "stream",
     "text": [
      " 21%|██        | 53/250 [00:43<02:08,  1.53it/s]"
     ]
    },
    {
     "name": "stdout",
     "output_type": "stream",
     "text": [
      "detecting 16 boxed of car in /mnt/zhangsn/data/V2X-Seq-SPD-Processed/0022_exp/0022_0_original_all_seperate_with_cooperative_pointcloud/images/000026_1.jpg, box_threshold: 0.3, logits: tensor([0.6317, 0.6297, 0.6663, 0.6272, 0.5555, 0.5336, 0.5278, 0.6299, 0.4973,\n",
      "        0.3342, 0.3169, 0.3072, 0.3139, 0.3131, 0.3003, 0.4340])\n"
     ]
    },
    {
     "name": "stderr",
     "output_type": "stream",
     "text": [
      " 22%|██▏       | 54/250 [00:43<02:09,  1.51it/s]"
     ]
    },
    {
     "name": "stdout",
     "output_type": "stream",
     "text": [
      "detecting 10 boxed of car in /mnt/zhangsn/data/V2X-Seq-SPD-Processed/0022_exp/0022_0_original_all_seperate_with_cooperative_pointcloud/images/000027_0.jpg, box_threshold: 0.3, logits: tensor([0.6521, 0.5037, 0.6058, 0.5051, 0.4089, 0.3658, 0.4176, 0.3494, 0.3225,\n",
      "        0.3166])\n"
     ]
    },
    {
     "name": "stderr",
     "output_type": "stream",
     "text": [
      " 22%|██▏       | 55/250 [00:44<02:08,  1.52it/s]"
     ]
    },
    {
     "name": "stdout",
     "output_type": "stream",
     "text": [
      "detecting 14 boxed of car in /mnt/zhangsn/data/V2X-Seq-SPD-Processed/0022_exp/0022_0_original_all_seperate_with_cooperative_pointcloud/images/000027_1.jpg, box_threshold: 0.3, logits: tensor([0.6339, 0.6662, 0.6359, 0.6268, 0.6245, 0.5624, 0.5659, 0.5138, 0.5051,\n",
      "        0.3769, 0.3281, 0.3070, 0.3051, 0.3797])\n"
     ]
    },
    {
     "name": "stderr",
     "output_type": "stream",
     "text": [
      " 22%|██▏       | 56/250 [00:45<02:07,  1.52it/s]"
     ]
    },
    {
     "name": "stdout",
     "output_type": "stream",
     "text": [
      "detecting 11 boxed of car in /mnt/zhangsn/data/V2X-Seq-SPD-Processed/0022_exp/0022_0_original_all_seperate_with_cooperative_pointcloud/images/000028_0.jpg, box_threshold: 0.3, logits: tensor([0.5992, 0.4835, 0.4751, 0.3817, 0.3632, 0.3693, 0.3642, 0.3836, 0.3012,\n",
      "        0.3165, 0.3953])\n"
     ]
    },
    {
     "name": "stderr",
     "output_type": "stream",
     "text": [
      " 23%|██▎       | 57/250 [00:45<02:06,  1.52it/s]"
     ]
    },
    {
     "name": "stdout",
     "output_type": "stream",
     "text": [
      "detecting 12 boxed of car in /mnt/zhangsn/data/V2X-Seq-SPD-Processed/0022_exp/0022_0_original_all_seperate_with_cooperative_pointcloud/images/000028_1.jpg, box_threshold: 0.3, logits: tensor([0.6398, 0.6341, 0.6736, 0.6367, 0.5547, 0.5327, 0.5779, 0.5257, 0.6330,\n",
      "        0.3336, 0.5104, 0.3040])\n"
     ]
    },
    {
     "name": "stderr",
     "output_type": "stream",
     "text": [
      " 23%|██▎       | 58/250 [00:46<02:08,  1.50it/s]"
     ]
    },
    {
     "name": "stdout",
     "output_type": "stream",
     "text": [
      "detecting 11 boxed of car in /mnt/zhangsn/data/V2X-Seq-SPD-Processed/0022_exp/0022_0_original_all_seperate_with_cooperative_pointcloud/images/000029_0.jpg, box_threshold: 0.3, logits: tensor([0.6234, 0.4965, 0.5639, 0.4720, 0.3913, 0.3805, 0.4327, 0.3737, 0.3122,\n",
      "        0.3111, 0.3749])\n"
     ]
    },
    {
     "name": "stderr",
     "output_type": "stream",
     "text": [
      " 24%|██▎       | 59/250 [00:47<02:07,  1.50it/s]"
     ]
    },
    {
     "name": "stdout",
     "output_type": "stream",
     "text": [
      "detecting 13 boxed of car in /mnt/zhangsn/data/V2X-Seq-SPD-Processed/0022_exp/0022_0_original_all_seperate_with_cooperative_pointcloud/images/000029_1.jpg, box_threshold: 0.3, logits: tensor([0.6354, 0.6360, 0.6454, 0.6556, 0.6281, 0.5857, 0.5195, 0.5839, 0.5627,\n",
      "        0.3035, 0.3152, 0.3001, 0.5237])\n"
     ]
    },
    {
     "name": "stderr",
     "output_type": "stream",
     "text": [
      " 24%|██▍       | 60/250 [00:47<02:06,  1.51it/s]"
     ]
    },
    {
     "name": "stdout",
     "output_type": "stream",
     "text": [
      "detecting 10 boxed of car in /mnt/zhangsn/data/V2X-Seq-SPD-Processed/0022_exp/0022_0_original_all_seperate_with_cooperative_pointcloud/images/000030_0.jpg, box_threshold: 0.3, logits: tensor([0.6033, 0.5088, 0.5588, 0.4202, 0.4603, 0.4539, 0.4104, 0.3236, 0.3524,\n",
      "        0.4293])\n"
     ]
    },
    {
     "name": "stderr",
     "output_type": "stream",
     "text": [
      " 24%|██▍       | 61/250 [00:48<02:04,  1.52it/s]"
     ]
    },
    {
     "name": "stdout",
     "output_type": "stream",
     "text": [
      "detecting 11 boxed of car in /mnt/zhangsn/data/V2X-Seq-SPD-Processed/0022_exp/0022_0_original_all_seperate_with_cooperative_pointcloud/images/000030_1.jpg, box_threshold: 0.3, logits: tensor([0.6476, 0.6414, 0.6733, 0.6254, 0.6542, 0.6086, 0.5200, 0.5310, 0.5747,\n",
      "        0.3788, 0.4484])\n"
     ]
    },
    {
     "name": "stderr",
     "output_type": "stream",
     "text": [
      " 25%|██▍       | 62/250 [00:49<02:03,  1.52it/s]"
     ]
    },
    {
     "name": "stdout",
     "output_type": "stream",
     "text": [
      "detecting 11 boxed of car in /mnt/zhangsn/data/V2X-Seq-SPD-Processed/0022_exp/0022_0_original_all_seperate_with_cooperative_pointcloud/images/000031_0.jpg, box_threshold: 0.3, logits: tensor([0.6427, 0.6058, 0.4202, 0.5029, 0.5210, 0.4045, 0.3753, 0.4209, 0.3066,\n",
      "        0.3036, 0.3109])\n"
     ]
    },
    {
     "name": "stderr",
     "output_type": "stream",
     "text": [
      " 25%|██▌       | 63/250 [00:49<02:02,  1.52it/s]"
     ]
    },
    {
     "name": "stdout",
     "output_type": "stream",
     "text": [
      "detecting 14 boxed of car in /mnt/zhangsn/data/V2X-Seq-SPD-Processed/0022_exp/0022_0_original_all_seperate_with_cooperative_pointcloud/images/000031_1.jpg, box_threshold: 0.3, logits: tensor([0.6320, 0.6419, 0.6360, 0.6589, 0.6222, 0.6006, 0.5695, 0.5560, 0.5244,\n",
      "        0.3976, 0.3018, 0.3007, 0.3070, 0.4090])\n"
     ]
    },
    {
     "name": "stderr",
     "output_type": "stream",
     "text": [
      " 26%|██▌       | 64/250 [00:50<02:02,  1.52it/s]"
     ]
    },
    {
     "name": "stdout",
     "output_type": "stream",
     "text": [
      "detecting 10 boxed of car in /mnt/zhangsn/data/V2X-Seq-SPD-Processed/0022_exp/0022_0_original_all_seperate_with_cooperative_pointcloud/images/000032_0.jpg, box_threshold: 0.3, logits: tensor([0.6139, 0.5792, 0.5228, 0.4323, 0.5180, 0.4155, 0.3758, 0.4503, 0.3439,\n",
      "        0.3104])\n"
     ]
    },
    {
     "name": "stderr",
     "output_type": "stream",
     "text": [
      " 26%|██▌       | 65/250 [00:51<02:02,  1.51it/s]"
     ]
    },
    {
     "name": "stdout",
     "output_type": "stream",
     "text": [
      "detecting 14 boxed of car in /mnt/zhangsn/data/V2X-Seq-SPD-Processed/0022_exp/0022_0_original_all_seperate_with_cooperative_pointcloud/images/000032_1.jpg, box_threshold: 0.3, logits: tensor([0.6275, 0.6394, 0.6478, 0.6618, 0.6338, 0.5878, 0.5368, 0.5677, 0.5291,\n",
      "        0.3312, 0.3032, 0.3178, 0.3147, 0.4769])\n"
     ]
    },
    {
     "name": "stderr",
     "output_type": "stream",
     "text": [
      " 26%|██▋       | 66/250 [00:51<02:06,  1.46it/s]"
     ]
    },
    {
     "name": "stdout",
     "output_type": "stream",
     "text": [
      "detecting 10 boxed of car in /mnt/zhangsn/data/V2X-Seq-SPD-Processed/0022_exp/0022_0_original_all_seperate_with_cooperative_pointcloud/images/000033_0.jpg, box_threshold: 0.3, logits: tensor([0.6056, 0.5040, 0.4463, 0.5041, 0.4374, 0.4049, 0.4397, 0.3038, 0.3692,\n",
      "        0.3237])\n"
     ]
    },
    {
     "name": "stderr",
     "output_type": "stream",
     "text": [
      " 27%|██▋       | 67/250 [00:52<02:14,  1.36it/s]"
     ]
    },
    {
     "name": "stdout",
     "output_type": "stream",
     "text": [
      "detecting 11 boxed of car in /mnt/zhangsn/data/V2X-Seq-SPD-Processed/0022_exp/0022_0_original_all_seperate_with_cooperative_pointcloud/images/000033_1.jpg, box_threshold: 0.3, logits: tensor([0.6469, 0.6529, 0.6576, 0.6695, 0.6325, 0.6174, 0.5270, 0.5857, 0.5932,\n",
      "        0.3571, 0.4555])\n"
     ]
    },
    {
     "name": "stderr",
     "output_type": "stream",
     "text": [
      " 27%|██▋       | 68/250 [00:53<02:17,  1.33it/s]"
     ]
    },
    {
     "name": "stdout",
     "output_type": "stream",
     "text": [
      "detecting 11 boxed of car in /mnt/zhangsn/data/V2X-Seq-SPD-Processed/0022_exp/0022_0_original_all_seperate_with_cooperative_pointcloud/images/000034_0.jpg, box_threshold: 0.3, logits: tensor([0.6124, 0.4920, 0.5473, 0.4564, 0.4521, 0.3533, 0.3474, 0.3217, 0.4164,\n",
      "        0.3757, 0.3170])\n"
     ]
    },
    {
     "name": "stderr",
     "output_type": "stream",
     "text": [
      " 28%|██▊       | 69/250 [00:54<02:14,  1.34it/s]"
     ]
    },
    {
     "name": "stdout",
     "output_type": "stream",
     "text": [
      "detecting 12 boxed of car in /mnt/zhangsn/data/V2X-Seq-SPD-Processed/0022_exp/0022_0_original_all_seperate_with_cooperative_pointcloud/images/000034_1.jpg, box_threshold: 0.3, logits: tensor([0.6558, 0.6552, 0.6659, 0.6302, 0.6517, 0.6088, 0.5498, 0.5882, 0.5643,\n",
      "        0.3399, 0.3020, 0.4748])\n"
     ]
    },
    {
     "name": "stderr",
     "output_type": "stream",
     "text": [
      " 28%|██▊       | 70/250 [00:55<02:22,  1.27it/s]"
     ]
    },
    {
     "name": "stdout",
     "output_type": "stream",
     "text": [
      "detecting 10 boxed of car in /mnt/zhangsn/data/V2X-Seq-SPD-Processed/0022_exp/0022_0_original_all_seperate_with_cooperative_pointcloud/images/000035_0.jpg, box_threshold: 0.3, logits: tensor([0.6183, 0.5758, 0.4700, 0.4443, 0.4740, 0.3455, 0.4407, 0.4141, 0.3284,\n",
      "        0.3441])\n"
     ]
    },
    {
     "name": "stderr",
     "output_type": "stream",
     "text": [
      " 28%|██▊       | 71/250 [00:55<02:20,  1.28it/s]"
     ]
    },
    {
     "name": "stdout",
     "output_type": "stream",
     "text": [
      "detecting 12 boxed of car in /mnt/zhangsn/data/V2X-Seq-SPD-Processed/0022_exp/0022_0_original_all_seperate_with_cooperative_pointcloud/images/000035_1.jpg, box_threshold: 0.3, logits: tensor([0.6574, 0.6522, 0.6584, 0.6164, 0.6380, 0.6265, 0.5531, 0.5944, 0.5549,\n",
      "        0.3268, 0.3191, 0.4737])\n"
     ]
    },
    {
     "name": "stderr",
     "output_type": "stream",
     "text": [
      " 29%|██▉       | 72/250 [00:56<02:19,  1.28it/s]"
     ]
    },
    {
     "name": "stdout",
     "output_type": "stream",
     "text": [
      "detecting 11 boxed of car in /mnt/zhangsn/data/V2X-Seq-SPD-Processed/0022_exp/0022_0_original_all_seperate_with_cooperative_pointcloud/images/000036_0.jpg, box_threshold: 0.3, logits: tensor([0.6207, 0.5254, 0.5791, 0.4171, 0.3839, 0.3120, 0.3347, 0.3421, 0.4168,\n",
      "        0.3516, 0.3234])\n"
     ]
    },
    {
     "name": "stderr",
     "output_type": "stream",
     "text": [
      " 29%|██▉       | 73/250 [00:57<02:15,  1.30it/s]"
     ]
    },
    {
     "name": "stdout",
     "output_type": "stream",
     "text": [
      "detecting 12 boxed of car in /mnt/zhangsn/data/V2X-Seq-SPD-Processed/0022_exp/0022_0_original_all_seperate_with_cooperative_pointcloud/images/000036_1.jpg, box_threshold: 0.3, logits: tensor([0.6577, 0.6402, 0.6424, 0.6696, 0.6353, 0.6246, 0.5666, 0.5627, 0.5878,\n",
      "        0.3207, 0.3303, 0.4952])\n"
     ]
    },
    {
     "name": "stderr",
     "output_type": "stream",
     "text": [
      " 30%|██▉       | 74/250 [00:58<02:13,  1.32it/s]"
     ]
    },
    {
     "name": "stdout",
     "output_type": "stream",
     "text": [
      "detecting 9 boxed of car in /mnt/zhangsn/data/V2X-Seq-SPD-Processed/0022_exp/0022_0_original_all_seperate_with_cooperative_pointcloud/images/000037_0.jpg, box_threshold: 0.3, logits: tensor([0.6315, 0.6216, 0.5425, 0.5674, 0.4064, 0.4449, 0.4095, 0.3029, 0.3852])\n"
     ]
    },
    {
     "name": "stderr",
     "output_type": "stream",
     "text": [
      " 30%|███       | 75/250 [00:58<02:10,  1.34it/s]"
     ]
    },
    {
     "name": "stdout",
     "output_type": "stream",
     "text": [
      "detecting 11 boxed of car in /mnt/zhangsn/data/V2X-Seq-SPD-Processed/0022_exp/0022_0_original_all_seperate_with_cooperative_pointcloud/images/000037_1.jpg, box_threshold: 0.3, logits: tensor([0.6776, 0.6515, 0.6415, 0.6341, 0.6716, 0.6466, 0.5528, 0.5683, 0.5992,\n",
      "        0.3401, 0.4956])\n"
     ]
    },
    {
     "name": "stderr",
     "output_type": "stream",
     "text": [
      " 30%|███       | 76/250 [00:59<02:09,  1.35it/s]"
     ]
    },
    {
     "name": "stdout",
     "output_type": "stream",
     "text": [
      "detecting 9 boxed of car in /mnt/zhangsn/data/V2X-Seq-SPD-Processed/0022_exp/0022_0_original_all_seperate_with_cooperative_pointcloud/images/000038_0.jpg, box_threshold: 0.3, logits: tensor([0.6106, 0.6151, 0.5357, 0.3743, 0.4029, 0.4875, 0.5101, 0.4053, 0.3422])\n"
     ]
    },
    {
     "name": "stderr",
     "output_type": "stream",
     "text": [
      " 31%|███       | 77/250 [01:00<02:07,  1.36it/s]"
     ]
    },
    {
     "name": "stdout",
     "output_type": "stream",
     "text": [
      "detecting 12 boxed of car in /mnt/zhangsn/data/V2X-Seq-SPD-Processed/0022_exp/0022_0_original_all_seperate_with_cooperative_pointcloud/images/000038_1.jpg, box_threshold: 0.3, logits: tensor([0.6707, 0.6121, 0.6565, 0.6281, 0.5282, 0.5032, 0.6080, 0.5120, 0.6477,\n",
      "        0.3413, 0.3426, 0.4366])\n"
     ]
    },
    {
     "name": "stderr",
     "output_type": "stream",
     "text": [
      " 31%|███       | 78/250 [01:00<02:03,  1.39it/s]"
     ]
    },
    {
     "name": "stdout",
     "output_type": "stream",
     "text": [
      "detecting 10 boxed of car in /mnt/zhangsn/data/V2X-Seq-SPD-Processed/0022_exp/0022_0_original_all_seperate_with_cooperative_pointcloud/images/000039_0.jpg, box_threshold: 0.3, logits: tensor([0.6238, 0.5258, 0.6027, 0.6125, 0.3973, 0.3834, 0.3245, 0.4635, 0.3322,\n",
      "        0.3895])\n"
     ]
    },
    {
     "name": "stderr",
     "output_type": "stream",
     "text": [
      " 32%|███▏      | 79/250 [01:01<02:00,  1.42it/s]"
     ]
    },
    {
     "name": "stdout",
     "output_type": "stream",
     "text": [
      "detecting 12 boxed of car in /mnt/zhangsn/data/V2X-Seq-SPD-Processed/0022_exp/0022_0_original_all_seperate_with_cooperative_pointcloud/images/000039_1.jpg, box_threshold: 0.3, logits: tensor([0.6776, 0.6375, 0.6143, 0.6281, 0.5116, 0.6032, 0.5051, 0.3414, 0.6612,\n",
      "        0.3600, 0.4920, 0.4224])\n"
     ]
    },
    {
     "name": "stderr",
     "output_type": "stream",
     "text": [
      " 32%|███▏      | 80/250 [01:02<01:57,  1.45it/s]"
     ]
    },
    {
     "name": "stdout",
     "output_type": "stream",
     "text": [
      "detecting 9 boxed of car in /mnt/zhangsn/data/V2X-Seq-SPD-Processed/0022_exp/0022_0_original_all_seperate_with_cooperative_pointcloud/images/000040_0.jpg, box_threshold: 0.3, logits: tensor([0.5802, 0.5909, 0.5443, 0.5754, 0.3744, 0.3186, 0.4051, 0.3816, 0.3237])\n"
     ]
    },
    {
     "name": "stderr",
     "output_type": "stream",
     "text": [
      " 32%|███▏      | 81/250 [01:02<01:55,  1.47it/s]"
     ]
    },
    {
     "name": "stdout",
     "output_type": "stream",
     "text": [
      "detecting 14 boxed of car in /mnt/zhangsn/data/V2X-Seq-SPD-Processed/0022_exp/0022_0_original_all_seperate_with_cooperative_pointcloud/images/000040_1.jpg, box_threshold: 0.3, logits: tensor([0.6865, 0.6125, 0.6357, 0.5581, 0.6286, 0.5341, 0.6127, 0.5381, 0.5168,\n",
      "        0.3527, 0.3176, 0.3232, 0.6519, 0.4261])\n"
     ]
    },
    {
     "name": "stderr",
     "output_type": "stream",
     "text": [
      " 33%|███▎      | 82/250 [01:03<01:54,  1.47it/s]"
     ]
    },
    {
     "name": "stdout",
     "output_type": "stream",
     "text": [
      "detecting 10 boxed of car in /mnt/zhangsn/data/V2X-Seq-SPD-Processed/0022_exp/0022_0_original_all_seperate_with_cooperative_pointcloud/images/000041_0.jpg, box_threshold: 0.3, logits: tensor([0.5419, 0.6021, 0.4278, 0.6011, 0.4028, 0.4254, 0.3545, 0.3337, 0.3947,\n",
      "        0.4719])\n"
     ]
    },
    {
     "name": "stderr",
     "output_type": "stream",
     "text": [
      " 33%|███▎      | 83/250 [01:04<01:52,  1.48it/s]"
     ]
    },
    {
     "name": "stdout",
     "output_type": "stream",
     "text": [
      "detecting 16 boxed of car in /mnt/zhangsn/data/V2X-Seq-SPD-Processed/0022_exp/0022_0_original_all_seperate_with_cooperative_pointcloud/images/000041_1.jpg, box_threshold: 0.3, logits: tensor([0.6816, 0.6293, 0.6007, 0.6106, 0.6401, 0.6131, 0.5695, 0.5586, 0.5192,\n",
      "        0.6173, 0.3554, 0.3106, 0.3106, 0.3210, 0.3025, 0.4304])\n"
     ]
    },
    {
     "name": "stderr",
     "output_type": "stream",
     "text": [
      " 34%|███▎      | 84/250 [01:04<01:54,  1.46it/s]"
     ]
    },
    {
     "name": "stdout",
     "output_type": "stream",
     "text": [
      "detecting 11 boxed of car in /mnt/zhangsn/data/V2X-Seq-SPD-Processed/0022_exp/0022_0_original_all_seperate_with_cooperative_pointcloud/images/000042_0.jpg, box_threshold: 0.3, logits: tensor([0.6064, 0.5481, 0.4828, 0.6078, 0.4082, 0.3600, 0.3286, 0.3652, 0.3400,\n",
      "        0.4307, 0.3177])\n"
     ]
    },
    {
     "name": "stderr",
     "output_type": "stream",
     "text": [
      " 34%|███▍      | 85/250 [01:05<01:53,  1.46it/s]"
     ]
    },
    {
     "name": "stdout",
     "output_type": "stream",
     "text": [
      "detecting 15 boxed of car in /mnt/zhangsn/data/V2X-Seq-SPD-Processed/0022_exp/0022_0_original_all_seperate_with_cooperative_pointcloud/images/000042_1.jpg, box_threshold: 0.3, logits: tensor([0.6783, 0.5940, 0.6278, 0.6134, 0.6325, 0.5841, 0.6089, 0.5538, 0.6232,\n",
      "        0.5160, 0.3944, 0.3171, 0.3099, 0.3114, 0.3780])\n"
     ]
    },
    {
     "name": "stderr",
     "output_type": "stream",
     "text": [
      " 34%|███▍      | 86/250 [01:06<01:51,  1.47it/s]"
     ]
    },
    {
     "name": "stdout",
     "output_type": "stream",
     "text": [
      "detecting 10 boxed of car in /mnt/zhangsn/data/V2X-Seq-SPD-Processed/0022_exp/0022_0_original_all_seperate_with_cooperative_pointcloud/images/000043_0.jpg, box_threshold: 0.3, logits: tensor([0.5699, 0.6236, 0.5246, 0.6041, 0.4852, 0.4014, 0.3342, 0.4146, 0.3031,\n",
      "        0.4380])\n"
     ]
    },
    {
     "name": "stderr",
     "output_type": "stream",
     "text": [
      " 35%|███▍      | 87/250 [01:06<01:50,  1.48it/s]"
     ]
    },
    {
     "name": "stdout",
     "output_type": "stream",
     "text": [
      "detecting 13 boxed of car in /mnt/zhangsn/data/V2X-Seq-SPD-Processed/0022_exp/0022_0_original_all_seperate_with_cooperative_pointcloud/images/000043_1.jpg, box_threshold: 0.3, logits: tensor([0.6979, 0.6232, 0.5990, 0.6404, 0.6456, 0.6160, 0.6098, 0.6245, 0.5650,\n",
      "        0.3112, 0.5634, 0.3081, 0.4467])\n"
     ]
    },
    {
     "name": "stderr",
     "output_type": "stream",
     "text": [
      " 35%|███▌      | 88/250 [01:07<01:49,  1.49it/s]"
     ]
    },
    {
     "name": "stdout",
     "output_type": "stream",
     "text": [
      "detecting 11 boxed of car in /mnt/zhangsn/data/V2X-Seq-SPD-Processed/0022_exp/0022_0_original_all_seperate_with_cooperative_pointcloud/images/000044_0.jpg, box_threshold: 0.3, logits: tensor([0.6223, 0.5962, 0.4669, 0.4386, 0.4108, 0.3788, 0.4580, 0.3919, 0.3165,\n",
      "        0.5400, 0.3150])\n"
     ]
    },
    {
     "name": "stderr",
     "output_type": "stream",
     "text": [
      " 36%|███▌      | 89/250 [01:08<01:48,  1.48it/s]"
     ]
    },
    {
     "name": "stdout",
     "output_type": "stream",
     "text": [
      "detecting 13 boxed of car in /mnt/zhangsn/data/V2X-Seq-SPD-Processed/0022_exp/0022_0_original_all_seperate_with_cooperative_pointcloud/images/000044_1.jpg, box_threshold: 0.3, logits: tensor([0.6833, 0.6392, 0.6010, 0.6331, 0.5030, 0.6048, 0.5510, 0.6130, 0.3580,\n",
      "        0.6157, 0.5453, 0.3355, 0.4802])\n"
     ]
    },
    {
     "name": "stderr",
     "output_type": "stream",
     "text": [
      " 36%|███▌      | 90/250 [01:08<01:47,  1.49it/s]"
     ]
    },
    {
     "name": "stdout",
     "output_type": "stream",
     "text": [
      "detecting 10 boxed of car in /mnt/zhangsn/data/V2X-Seq-SPD-Processed/0022_exp/0022_0_original_all_seperate_with_cooperative_pointcloud/images/000045_0.jpg, box_threshold: 0.3, logits: tensor([0.6265, 0.5611, 0.6155, 0.4245, 0.4128, 0.3818, 0.4140, 0.4465, 0.3012,\n",
      "        0.3075])\n"
     ]
    },
    {
     "name": "stderr",
     "output_type": "stream",
     "text": [
      " 36%|███▋      | 91/250 [01:09<01:47,  1.49it/s]"
     ]
    },
    {
     "name": "stdout",
     "output_type": "stream",
     "text": [
      "detecting 13 boxed of car in /mnt/zhangsn/data/V2X-Seq-SPD-Processed/0022_exp/0022_0_original_all_seperate_with_cooperative_pointcloud/images/000045_1.jpg, box_threshold: 0.3, logits: tensor([0.6763, 0.6415, 0.6149, 0.6429, 0.6426, 0.5545, 0.6100, 0.6284, 0.5660,\n",
      "        0.6230, 0.3744, 0.3475, 0.5324])\n"
     ]
    },
    {
     "name": "stderr",
     "output_type": "stream",
     "text": [
      " 37%|███▋      | 92/250 [01:10<01:45,  1.49it/s]"
     ]
    },
    {
     "name": "stdout",
     "output_type": "stream",
     "text": [
      "detecting 11 boxed of car in /mnt/zhangsn/data/V2X-Seq-SPD-Processed/0022_exp/0022_0_original_all_seperate_with_cooperative_pointcloud/images/000046_0.jpg, box_threshold: 0.3, logits: tensor([0.6179, 0.5547, 0.6055, 0.3755, 0.4237, 0.3991, 0.3512, 0.3092, 0.3087,\n",
      "        0.4036, 0.3364])\n"
     ]
    },
    {
     "name": "stderr",
     "output_type": "stream",
     "text": [
      " 37%|███▋      | 93/250 [01:10<01:44,  1.50it/s]"
     ]
    },
    {
     "name": "stdout",
     "output_type": "stream",
     "text": [
      "detecting 14 boxed of car in /mnt/zhangsn/data/V2X-Seq-SPD-Processed/0022_exp/0022_0_original_all_seperate_with_cooperative_pointcloud/images/000046_1.jpg, box_threshold: 0.3, logits: tensor([0.6677, 0.6209, 0.6184, 0.6288, 0.6154, 0.6331, 0.5654, 0.5981, 0.5531,\n",
      "        0.6202, 0.5025, 0.4278, 0.3215, 0.5549])\n"
     ]
    },
    {
     "name": "stderr",
     "output_type": "stream",
     "text": [
      " 38%|███▊      | 94/250 [01:11<01:54,  1.36it/s]"
     ]
    },
    {
     "name": "stdout",
     "output_type": "stream",
     "text": [
      "detecting 11 boxed of car in /mnt/zhangsn/data/V2X-Seq-SPD-Processed/0022_exp/0022_0_original_all_seperate_with_cooperative_pointcloud/images/000047_0.jpg, box_threshold: 0.3, logits: tensor([0.6072, 0.5305, 0.6005, 0.4667, 0.4155, 0.4482, 0.4249, 0.3347, 0.3285,\n",
      "        0.3965, 0.3205])\n"
     ]
    },
    {
     "name": "stderr",
     "output_type": "stream",
     "text": [
      " 38%|███▊      | 95/250 [01:12<02:10,  1.19it/s]"
     ]
    },
    {
     "name": "stdout",
     "output_type": "stream",
     "text": [
      "detecting 14 boxed of car in /mnt/zhangsn/data/V2X-Seq-SPD-Processed/0022_exp/0022_0_original_all_seperate_with_cooperative_pointcloud/images/000047_1.jpg, box_threshold: 0.3, logits: tensor([0.6647, 0.6140, 0.6345, 0.6099, 0.6726, 0.6417, 0.6171, 0.5658, 0.5433,\n",
      "        0.5332, 0.6076, 0.4321, 0.5707, 0.3118])\n"
     ]
    },
    {
     "name": "stderr",
     "output_type": "stream",
     "text": [
      " 38%|███▊      | 96/250 [01:14<02:20,  1.10it/s]"
     ]
    },
    {
     "name": "stdout",
     "output_type": "stream",
     "text": [
      "detecting 13 boxed of car in /mnt/zhangsn/data/V2X-Seq-SPD-Processed/0022_exp/0022_0_original_all_seperate_with_cooperative_pointcloud/images/000048_0.jpg, box_threshold: 0.3, logits: tensor([0.5582, 0.4921, 0.4316, 0.5786, 0.4644, 0.4123, 0.4159, 0.3470, 0.3453,\n",
      "        0.4106, 0.3692, 0.3303, 0.3087])\n"
     ]
    },
    {
     "name": "stderr",
     "output_type": "stream",
     "text": [
      " 39%|███▉      | 97/250 [01:15<02:26,  1.04it/s]"
     ]
    },
    {
     "name": "stdout",
     "output_type": "stream",
     "text": [
      "detecting 14 boxed of car in /mnt/zhangsn/data/V2X-Seq-SPD-Processed/0022_exp/0022_0_original_all_seperate_with_cooperative_pointcloud/images/000048_1.jpg, box_threshold: 0.3, logits: tensor([0.6659, 0.6165, 0.6208, 0.6349, 0.6464, 0.6224, 0.5555, 0.5609, 0.5868,\n",
      "        0.5804, 0.5902, 0.4323, 0.5541, 0.3063])\n"
     ]
    },
    {
     "name": "stderr",
     "output_type": "stream",
     "text": [
      " 39%|███▉      | 98/250 [01:16<02:31,  1.01it/s]"
     ]
    },
    {
     "name": "stdout",
     "output_type": "stream",
     "text": [
      "detecting 14 boxed of car in /mnt/zhangsn/data/V2X-Seq-SPD-Processed/0022_exp/0022_0_original_all_seperate_with_cooperative_pointcloud/images/000049_0.jpg, box_threshold: 0.3, logits: tensor([0.5899, 0.5393, 0.4402, 0.4355, 0.4091, 0.4135, 0.6182, 0.3876, 0.3477,\n",
      "        0.3566, 0.3719, 0.3270, 0.3496, 0.3031])\n"
     ]
    },
    {
     "name": "stderr",
     "output_type": "stream",
     "text": [
      " 40%|███▉      | 99/250 [01:17<02:32,  1.01s/it]"
     ]
    },
    {
     "name": "stdout",
     "output_type": "stream",
     "text": [
      "detecting 13 boxed of car in /mnt/zhangsn/data/V2X-Seq-SPD-Processed/0022_exp/0022_0_original_all_seperate_with_cooperative_pointcloud/images/000049_1.jpg, box_threshold: 0.3, logits: tensor([0.6574, 0.6051, 0.6104, 0.6283, 0.6609, 0.6402, 0.5896, 0.6105, 0.5696,\n",
      "        0.5792, 0.6042, 0.5600, 0.3534])\n"
     ]
    },
    {
     "name": "stderr",
     "output_type": "stream",
     "text": [
      " 40%|████      | 100/250 [01:18<02:23,  1.05it/s]"
     ]
    },
    {
     "name": "stdout",
     "output_type": "stream",
     "text": [
      "detecting 13 boxed of car in /mnt/zhangsn/data/V2X-Seq-SPD-Processed/0022_exp/0022_0_original_all_seperate_with_cooperative_pointcloud/images/000050_0.jpg, box_threshold: 0.3, logits: tensor([0.5770, 0.4825, 0.5702, 0.4230, 0.3453, 0.3587, 0.4013, 0.4065, 0.3795,\n",
      "        0.6102, 0.3014, 0.3080, 0.3988])\n"
     ]
    },
    {
     "name": "stderr",
     "output_type": "stream",
     "text": [
      " 40%|████      | 101/250 [01:19<02:31,  1.02s/it]"
     ]
    },
    {
     "name": "stdout",
     "output_type": "stream",
     "text": [
      "detecting 14 boxed of car in /mnt/zhangsn/data/V2X-Seq-SPD-Processed/0022_exp/0022_0_original_all_seperate_with_cooperative_pointcloud/images/000050_1.jpg, box_threshold: 0.3, logits: tensor([0.6494, 0.5891, 0.6294, 0.6396, 0.6142, 0.6192, 0.4472, 0.5682, 0.5943,\n",
      "        0.6112, 0.3350, 0.5602, 0.3346, 0.6262])\n"
     ]
    },
    {
     "name": "stderr",
     "output_type": "stream",
     "text": [
      " 41%|████      | 102/250 [01:20<02:31,  1.02s/it]"
     ]
    },
    {
     "name": "stdout",
     "output_type": "stream",
     "text": [
      "detecting 11 boxed of car in /mnt/zhangsn/data/V2X-Seq-SPD-Processed/0022_exp/0022_0_original_all_seperate_with_cooperative_pointcloud/images/000051_0.jpg, box_threshold: 0.3, logits: tensor([0.6001, 0.6103, 0.5238, 0.4508, 0.5598, 0.4624, 0.3853, 0.3455, 0.3999,\n",
      "        0.3328, 0.3875])\n"
     ]
    },
    {
     "name": "stderr",
     "output_type": "stream",
     "text": [
      " 41%|████      | 103/250 [01:21<02:33,  1.05s/it]"
     ]
    },
    {
     "name": "stdout",
     "output_type": "stream",
     "text": [
      "detecting 14 boxed of car in /mnt/zhangsn/data/V2X-Seq-SPD-Processed/0022_exp/0022_0_original_all_seperate_with_cooperative_pointcloud/images/000051_1.jpg, box_threshold: 0.3, logits: tensor([0.6495, 0.5779, 0.6338, 0.6146, 0.6149, 0.6327, 0.6148, 0.6122, 0.5729,\n",
      "        0.5697, 0.6009, 0.5645, 0.3051, 0.3255])\n"
     ]
    },
    {
     "name": "stderr",
     "output_type": "stream",
     "text": [
      " 42%|████▏     | 104/250 [01:22<02:33,  1.05s/it]"
     ]
    },
    {
     "name": "stdout",
     "output_type": "stream",
     "text": [
      "detecting 12 boxed of car in /mnt/zhangsn/data/V2X-Seq-SPD-Processed/0022_exp/0022_0_original_all_seperate_with_cooperative_pointcloud/images/000052_0.jpg, box_threshold: 0.3, logits: tensor([0.4888, 0.5874, 0.5889, 0.5267, 0.5789, 0.6118, 0.4620, 0.3511, 0.4052,\n",
      "        0.3330, 0.3955, 0.3102])\n"
     ]
    },
    {
     "name": "stderr",
     "output_type": "stream",
     "text": [
      " 42%|████▏     | 105/250 [01:23<02:33,  1.06s/it]"
     ]
    },
    {
     "name": "stdout",
     "output_type": "stream",
     "text": [
      "detecting 12 boxed of car in /mnt/zhangsn/data/V2X-Seq-SPD-Processed/0022_exp/0022_0_original_all_seperate_with_cooperative_pointcloud/images/000052_1.jpg, box_threshold: 0.3, logits: tensor([0.6122, 0.6360, 0.6166, 0.6244, 0.6176, 0.6218, 0.5960, 0.6027, 0.6025,\n",
      "        0.5363, 0.5833, 0.5952])\n"
     ]
    },
    {
     "name": "stderr",
     "output_type": "stream",
     "text": [
      " 42%|████▏     | 106/250 [01:24<02:32,  1.06s/it]"
     ]
    },
    {
     "name": "stdout",
     "output_type": "stream",
     "text": [
      "detecting 12 boxed of car in /mnt/zhangsn/data/V2X-Seq-SPD-Processed/0022_exp/0022_0_original_all_seperate_with_cooperative_pointcloud/images/000053_0.jpg, box_threshold: 0.3, logits: tensor([0.6330, 0.6359, 0.5846, 0.5886, 0.5620, 0.5028, 0.3773, 0.4468, 0.3648,\n",
      "        0.3898, 0.3899, 0.3349])\n"
     ]
    },
    {
     "name": "stderr",
     "output_type": "stream",
     "text": [
      " 43%|████▎     | 107/250 [01:25<02:23,  1.00s/it]"
     ]
    },
    {
     "name": "stdout",
     "output_type": "stream",
     "text": [
      "detecting 13 boxed of car in /mnt/zhangsn/data/V2X-Seq-SPD-Processed/0022_exp/0022_0_original_all_seperate_with_cooperative_pointcloud/images/000053_1.jpg, box_threshold: 0.3, logits: tensor([0.6230, 0.6472, 0.6237, 0.6077, 0.6255, 0.6247, 0.6175, 0.6060, 0.5810,\n",
      "        0.5417, 0.5929, 0.5772, 0.3209])\n"
     ]
    },
    {
     "name": "stderr",
     "output_type": "stream",
     "text": [
      " 43%|████▎     | 108/250 [01:26<02:24,  1.01s/it]"
     ]
    },
    {
     "name": "stdout",
     "output_type": "stream",
     "text": [
      "detecting 12 boxed of car in /mnt/zhangsn/data/V2X-Seq-SPD-Processed/0022_exp/0022_0_original_all_seperate_with_cooperative_pointcloud/images/000054_0.jpg, box_threshold: 0.3, logits: tensor([0.6166, 0.6341, 0.5973, 0.5424, 0.4353, 0.4723, 0.5157, 0.4074, 0.4864,\n",
      "        0.4175, 0.3942, 0.3669])\n"
     ]
    },
    {
     "name": "stderr",
     "output_type": "stream",
     "text": [
      " 44%|████▎     | 109/250 [01:27<02:21,  1.00s/it]"
     ]
    },
    {
     "name": "stdout",
     "output_type": "stream",
     "text": [
      "detecting 13 boxed of car in /mnt/zhangsn/data/V2X-Seq-SPD-Processed/0022_exp/0022_0_original_all_seperate_with_cooperative_pointcloud/images/000054_1.jpg, box_threshold: 0.3, logits: tensor([0.6281, 0.6262, 0.6475, 0.6260, 0.5607, 0.6182, 0.6263, 0.6052, 0.5679,\n",
      "        0.5344, 0.5956, 0.5775, 0.3639])\n"
     ]
    },
    {
     "name": "stderr",
     "output_type": "stream",
     "text": [
      " 44%|████▍     | 110/250 [01:28<02:22,  1.02s/it]"
     ]
    },
    {
     "name": "stdout",
     "output_type": "stream",
     "text": [
      "detecting 11 boxed of car in /mnt/zhangsn/data/V2X-Seq-SPD-Processed/0022_exp/0022_0_original_all_seperate_with_cooperative_pointcloud/images/000055_0.jpg, box_threshold: 0.3, logits: tensor([0.6746, 0.6342, 0.5908, 0.4965, 0.6144, 0.4247, 0.5150, 0.4690, 0.3677,\n",
      "        0.4012, 0.4792])\n"
     ]
    },
    {
     "name": "stderr",
     "output_type": "stream",
     "text": [
      " 44%|████▍     | 111/250 [01:29<02:22,  1.03s/it]"
     ]
    },
    {
     "name": "stdout",
     "output_type": "stream",
     "text": [
      "detecting 15 boxed of car in /mnt/zhangsn/data/V2X-Seq-SPD-Processed/0022_exp/0022_0_original_all_seperate_with_cooperative_pointcloud/images/000055_1.jpg, box_threshold: 0.3, logits: tensor([0.6242, 0.6331, 0.6581, 0.6422, 0.6331, 0.6146, 0.6272, 0.5952, 0.5586,\n",
      "        0.5597, 0.6002, 0.5935, 0.3514, 0.3071, 0.3161])\n"
     ]
    },
    {
     "name": "stderr",
     "output_type": "stream",
     "text": [
      " 45%|████▍     | 112/250 [01:30<02:23,  1.04s/it]"
     ]
    },
    {
     "name": "stdout",
     "output_type": "stream",
     "text": [
      "detecting 11 boxed of car in /mnt/zhangsn/data/V2X-Seq-SPD-Processed/0022_exp/0022_0_original_all_seperate_with_cooperative_pointcloud/images/000056_0.jpg, box_threshold: 0.3, logits: tensor([0.6073, 0.5681, 0.6267, 0.5081, 0.4581, 0.4275, 0.4918, 0.4332, 0.3822,\n",
      "        0.4728, 0.4227])\n"
     ]
    },
    {
     "name": "stderr",
     "output_type": "stream",
     "text": [
      " 45%|████▌     | 113/250 [01:31<02:24,  1.05s/it]"
     ]
    },
    {
     "name": "stdout",
     "output_type": "stream",
     "text": [
      "detecting 13 boxed of car in /mnt/zhangsn/data/V2X-Seq-SPD-Processed/0022_exp/0022_0_original_all_seperate_with_cooperative_pointcloud/images/000056_1.jpg, box_threshold: 0.3, logits: tensor([0.6228, 0.6335, 0.6181, 0.6409, 0.6194, 0.6178, 0.5956, 0.6177, 0.5574,\n",
      "        0.5384, 0.6105, 0.5185, 0.3433])\n"
     ]
    },
    {
     "name": "stderr",
     "output_type": "stream",
     "text": [
      " 46%|████▌     | 114/250 [01:32<02:22,  1.05s/it]"
     ]
    },
    {
     "name": "stdout",
     "output_type": "stream",
     "text": [
      "detecting 11 boxed of car in /mnt/zhangsn/data/V2X-Seq-SPD-Processed/0022_exp/0022_0_original_all_seperate_with_cooperative_pointcloud/images/000057_0.jpg, box_threshold: 0.3, logits: tensor([0.6796, 0.5904, 0.6619, 0.5017, 0.4788, 0.4348, 0.4404, 0.4705, 0.3758,\n",
      "        0.4943, 0.4154])\n"
     ]
    },
    {
     "name": "stderr",
     "output_type": "stream",
     "text": [
      " 46%|████▌     | 115/250 [01:33<02:13,  1.01it/s]"
     ]
    },
    {
     "name": "stdout",
     "output_type": "stream",
     "text": [
      "detecting 16 boxed of car in /mnt/zhangsn/data/V2X-Seq-SPD-Processed/0022_exp/0022_0_original_all_seperate_with_cooperative_pointcloud/images/000057_1.jpg, box_threshold: 0.3, logits: tensor([0.6761, 0.6409, 0.6284, 0.6428, 0.6138, 0.6061, 0.6086, 0.5863, 0.5421,\n",
      "        0.5617, 0.5906, 0.5252, 0.3348, 0.3082, 0.3041, 0.3231])\n"
     ]
    },
    {
     "name": "stderr",
     "output_type": "stream",
     "text": [
      " 46%|████▋     | 116/250 [01:34<02:19,  1.04s/it]"
     ]
    },
    {
     "name": "stdout",
     "output_type": "stream",
     "text": [
      "detecting 12 boxed of car in /mnt/zhangsn/data/V2X-Seq-SPD-Processed/0022_exp/0022_0_original_all_seperate_with_cooperative_pointcloud/images/000058_0.jpg, box_threshold: 0.3, logits: tensor([0.6997, 0.5828, 0.6345, 0.4864, 0.6144, 0.4511, 0.4165, 0.4583, 0.3659,\n",
      "        0.4256, 0.3621, 0.3155])\n"
     ]
    },
    {
     "name": "stderr",
     "output_type": "stream",
     "text": [
      " 47%|████▋     | 117/250 [01:35<02:18,  1.04s/it]"
     ]
    },
    {
     "name": "stdout",
     "output_type": "stream",
     "text": [
      "detecting 15 boxed of car in /mnt/zhangsn/data/V2X-Seq-SPD-Processed/0022_exp/0022_0_original_all_seperate_with_cooperative_pointcloud/images/000058_1.jpg, box_threshold: 0.3, logits: tensor([0.6267, 0.6254, 0.6324, 0.6100, 0.6094, 0.6040, 0.6116, 0.5735, 0.5764,\n",
      "        0.5585, 0.5501, 0.3359, 0.3040, 0.4510, 0.3236])\n"
     ]
    },
    {
     "name": "stderr",
     "output_type": "stream",
     "text": [
      " 47%|████▋     | 118/250 [01:36<02:19,  1.05s/it]"
     ]
    },
    {
     "name": "stdout",
     "output_type": "stream",
     "text": [
      "detecting 11 boxed of car in /mnt/zhangsn/data/V2X-Seq-SPD-Processed/0022_exp/0022_0_original_all_seperate_with_cooperative_pointcloud/images/000059_0.jpg, box_threshold: 0.3, logits: tensor([0.6231, 0.7004, 0.6490, 0.4758, 0.4773, 0.6681, 0.4011, 0.4597, 0.3681,\n",
      "        0.4011, 0.3142])\n"
     ]
    },
    {
     "name": "stderr",
     "output_type": "stream",
     "text": [
      " 48%|████▊     | 119/250 [01:37<02:18,  1.06s/it]"
     ]
    },
    {
     "name": "stdout",
     "output_type": "stream",
     "text": [
      "detecting 17 boxed of car in /mnt/zhangsn/data/V2X-Seq-SPD-Processed/0022_exp/0022_0_original_all_seperate_with_cooperative_pointcloud/images/000059_1.jpg, box_threshold: 0.3, logits: tensor([0.6450, 0.6416, 0.6225, 0.5979, 0.6024, 0.5936, 0.5992, 0.5798, 0.5768,\n",
      "        0.5430, 0.5744, 0.3094, 0.3111, 0.3117, 0.4406, 0.3261, 0.3348])\n"
     ]
    },
    {
     "name": "stderr",
     "output_type": "stream",
     "text": [
      " 48%|████▊     | 120/250 [01:39<02:18,  1.06s/it]"
     ]
    },
    {
     "name": "stdout",
     "output_type": "stream",
     "text": [
      "detecting 13 boxed of car in /mnt/zhangsn/data/V2X-Seq-SPD-Processed/0022_exp/0022_0_original_all_seperate_with_cooperative_pointcloud/images/000060_0.jpg, box_threshold: 0.3, logits: tensor([0.6021, 0.6554, 0.6584, 0.6026, 0.4489, 0.4201, 0.4469, 0.3548, 0.3350,\n",
      "        0.3446, 0.3259, 0.3413, 0.3165])\n"
     ]
    },
    {
     "name": "stderr",
     "output_type": "stream",
     "text": [
      " 48%|████▊     | 121/250 [01:40<02:17,  1.07s/it]"
     ]
    },
    {
     "name": "stdout",
     "output_type": "stream",
     "text": [
      "detecting 16 boxed of car in /mnt/zhangsn/data/V2X-Seq-SPD-Processed/0022_exp/0022_0_original_all_seperate_with_cooperative_pointcloud/images/000060_1.jpg, box_threshold: 0.3, logits: tensor([0.6475, 0.6311, 0.6152, 0.6149, 0.5958, 0.5965, 0.5721, 0.5854, 0.5734,\n",
      "        0.5824, 0.4721, 0.5220, 0.3253, 0.4905, 0.3091, 0.3130])\n"
     ]
    },
    {
     "name": "stderr",
     "output_type": "stream",
     "text": [
      " 49%|████▉     | 122/250 [01:40<02:09,  1.02s/it]"
     ]
    },
    {
     "name": "stdout",
     "output_type": "stream",
     "text": [
      "detecting 13 boxed of car in /mnt/zhangsn/data/V2X-Seq-SPD-Processed/0022_exp/0022_0_original_all_seperate_with_cooperative_pointcloud/images/000061_0.jpg, box_threshold: 0.3, logits: tensor([0.6541, 0.6073, 0.6346, 0.4865, 0.4522, 0.3984, 0.4086, 0.3453, 0.3136,\n",
      "        0.3256, 0.3694, 0.3579, 0.3459])\n"
     ]
    },
    {
     "name": "stderr",
     "output_type": "stream",
     "text": [
      " 49%|████▉     | 123/250 [01:41<02:06,  1.00it/s]"
     ]
    },
    {
     "name": "stdout",
     "output_type": "stream",
     "text": [
      "detecting 16 boxed of car in /mnt/zhangsn/data/V2X-Seq-SPD-Processed/0022_exp/0022_0_original_all_seperate_with_cooperative_pointcloud/images/000061_1.jpg, box_threshold: 0.3, logits: tensor([0.6491, 0.6129, 0.6197, 0.6299, 0.5886, 0.5885, 0.5808, 0.5902, 0.5724,\n",
      "        0.5560, 0.5233, 0.5816, 0.3316, 0.5143, 0.3168, 0.3277])\n"
     ]
    },
    {
     "name": "stderr",
     "output_type": "stream",
     "text": [
      " 50%|████▉     | 124/250 [01:42<02:06,  1.01s/it]"
     ]
    },
    {
     "name": "stdout",
     "output_type": "stream",
     "text": [
      "detecting 12 boxed of car in /mnt/zhangsn/data/V2X-Seq-SPD-Processed/0022_exp/0022_0_original_all_seperate_with_cooperative_pointcloud/images/000062_0.jpg, box_threshold: 0.3, logits: tensor([0.6553, 0.6245, 0.5715, 0.5133, 0.4878, 0.4408, 0.4115, 0.5049, 0.4890,\n",
      "        0.3733, 0.3890, 0.3772])\n"
     ]
    },
    {
     "name": "stderr",
     "output_type": "stream",
     "text": [
      " 50%|█████     | 125/250 [01:44<02:08,  1.03s/it]"
     ]
    },
    {
     "name": "stdout",
     "output_type": "stream",
     "text": [
      "detecting 17 boxed of car in /mnt/zhangsn/data/V2X-Seq-SPD-Processed/0022_exp/0022_0_original_all_seperate_with_cooperative_pointcloud/images/000062_1.jpg, box_threshold: 0.3, logits: tensor([0.6452, 0.6216, 0.6295, 0.5930, 0.6453, 0.6173, 0.6044, 0.5869, 0.5808,\n",
      "        0.5922, 0.5373, 0.5931, 0.3173, 0.5341, 0.3012, 0.3166, 0.3035])\n"
     ]
    },
    {
     "name": "stderr",
     "output_type": "stream",
     "text": [
      " 50%|█████     | 126/250 [01:45<02:08,  1.04s/it]"
     ]
    },
    {
     "name": "stdout",
     "output_type": "stream",
     "text": [
      "detecting 11 boxed of car in /mnt/zhangsn/data/V2X-Seq-SPD-Processed/0022_exp/0022_0_original_all_seperate_with_cooperative_pointcloud/images/000063_0.jpg, box_threshold: 0.3, logits: tensor([0.7206, 0.6731, 0.5339, 0.5203, 0.5332, 0.4706, 0.4864, 0.5046, 0.4185,\n",
      "        0.4042, 0.4203])\n"
     ]
    },
    {
     "name": "stderr",
     "output_type": "stream",
     "text": [
      " 51%|█████     | 127/250 [01:46<02:09,  1.05s/it]"
     ]
    },
    {
     "name": "stdout",
     "output_type": "stream",
     "text": [
      "detecting 16 boxed of car in /mnt/zhangsn/data/V2X-Seq-SPD-Processed/0022_exp/0022_0_original_all_seperate_with_cooperative_pointcloud/images/000063_1.jpg, box_threshold: 0.3, logits: tensor([0.6393, 0.5988, 0.6176, 0.6432, 0.5860, 0.5929, 0.6076, 0.5951, 0.5601,\n",
      "        0.5869, 0.5968, 0.5160, 0.3405, 0.3208, 0.3368, 0.5194])\n"
     ]
    },
    {
     "name": "stderr",
     "output_type": "stream",
     "text": [
      " 51%|█████     | 128/250 [01:47<02:11,  1.07s/it]"
     ]
    },
    {
     "name": "stdout",
     "output_type": "stream",
     "text": [
      "detecting 10 boxed of car in /mnt/zhangsn/data/V2X-Seq-SPD-Processed/0022_exp/0022_0_original_all_seperate_with_cooperative_pointcloud/images/000064_0.jpg, box_threshold: 0.3, logits: tensor([0.7327, 0.6775, 0.5466, 0.5500, 0.5272, 0.4217, 0.5174, 0.4177, 0.3076,\n",
      "        0.4044])\n"
     ]
    },
    {
     "name": "stderr",
     "output_type": "stream",
     "text": [
      " 52%|█████▏    | 129/250 [01:48<02:04,  1.03s/it]"
     ]
    },
    {
     "name": "stdout",
     "output_type": "stream",
     "text": [
      "detecting 16 boxed of car in /mnt/zhangsn/data/V2X-Seq-SPD-Processed/0022_exp/0022_0_original_all_seperate_with_cooperative_pointcloud/images/000064_1.jpg, box_threshold: 0.3, logits: tensor([0.6366, 0.6024, 0.6235, 0.6389, 0.5847, 0.5753, 0.5894, 0.5753, 0.5478,\n",
      "        0.6131, 0.5996, 0.5011, 0.3358, 0.5374, 0.3014, 0.3430])\n"
     ]
    },
    {
     "name": "stderr",
     "output_type": "stream",
     "text": [
      " 52%|█████▏    | 130/250 [01:49<01:56,  1.03it/s]"
     ]
    },
    {
     "name": "stdout",
     "output_type": "stream",
     "text": [
      "detecting 10 boxed of car in /mnt/zhangsn/data/V2X-Seq-SPD-Processed/0022_exp/0022_0_original_all_seperate_with_cooperative_pointcloud/images/000065_0.jpg, box_threshold: 0.3, logits: tensor([0.6831, 0.5409, 0.7399, 0.5192, 0.5403, 0.5297, 0.5030, 0.3739, 0.3155,\n",
      "        0.4016])\n"
     ]
    },
    {
     "name": "stderr",
     "output_type": "stream",
     "text": [
      " 52%|█████▏    | 131/250 [01:50<02:01,  1.02s/it]"
     ]
    },
    {
     "name": "stdout",
     "output_type": "stream",
     "text": [
      "detecting 16 boxed of car in /mnt/zhangsn/data/V2X-Seq-SPD-Processed/0022_exp/0022_0_original_all_seperate_with_cooperative_pointcloud/images/000065_1.jpg, box_threshold: 0.3, logits: tensor([0.6006, 0.6222, 0.6317, 0.5846, 0.6392, 0.6284, 0.5845, 0.5866, 0.5694,\n",
      "        0.5779, 0.5996, 0.5149, 0.3395, 0.3169, 0.5109, 0.3383])\n"
     ]
    },
    {
     "name": "stderr",
     "output_type": "stream",
     "text": [
      " 53%|█████▎    | 132/250 [01:51<02:01,  1.03s/it]"
     ]
    },
    {
     "name": "stdout",
     "output_type": "stream",
     "text": [
      "detecting 9 boxed of car in /mnt/zhangsn/data/V2X-Seq-SPD-Processed/0022_exp/0022_0_original_all_seperate_with_cooperative_pointcloud/images/000066_0.jpg, box_threshold: 0.3, logits: tensor([0.7231, 0.6977, 0.5454, 0.5655, 0.5377, 0.4703, 0.3228, 0.4036, 0.3608])\n"
     ]
    },
    {
     "name": "stderr",
     "output_type": "stream",
     "text": [
      " 53%|█████▎    | 133/250 [01:52<02:02,  1.04s/it]"
     ]
    },
    {
     "name": "stdout",
     "output_type": "stream",
     "text": [
      "detecting 16 boxed of car in /mnt/zhangsn/data/V2X-Seq-SPD-Processed/0022_exp/0022_0_original_all_seperate_with_cooperative_pointcloud/images/000066_1.jpg, box_threshold: 0.3, logits: tensor([0.6246, 0.6067, 0.6186, 0.5974, 0.6162, 0.5850, 0.5851, 0.5582, 0.5789,\n",
      "        0.5843, 0.5264, 0.5854, 0.3400, 0.3054, 0.5338, 0.3292])\n"
     ]
    },
    {
     "name": "stderr",
     "output_type": "stream",
     "text": [
      " 54%|█████▎    | 134/250 [01:53<02:02,  1.05s/it]"
     ]
    },
    {
     "name": "stdout",
     "output_type": "stream",
     "text": [
      "detecting 10 boxed of car in /mnt/zhangsn/data/V2X-Seq-SPD-Processed/0022_exp/0022_0_original_all_seperate_with_cooperative_pointcloud/images/000067_0.jpg, box_threshold: 0.3, logits: tensor([0.6935, 0.7513, 0.5285, 0.5625, 0.5286, 0.4103, 0.4668, 0.3013, 0.3773,\n",
      "        0.3201])\n"
     ]
    },
    {
     "name": "stderr",
     "output_type": "stream",
     "text": [
      " 54%|█████▍    | 135/250 [01:54<02:01,  1.06s/it]"
     ]
    },
    {
     "name": "stdout",
     "output_type": "stream",
     "text": [
      "detecting 16 boxed of car in /mnt/zhangsn/data/V2X-Seq-SPD-Processed/0022_exp/0022_0_original_all_seperate_with_cooperative_pointcloud/images/000067_1.jpg, box_threshold: 0.3, logits: tensor([0.6261, 0.6540, 0.6067, 0.5759, 0.6273, 0.5693, 0.5704, 0.5460, 0.5616,\n",
      "        0.5766, 0.5397, 0.5003, 0.3413, 0.3202, 0.5295, 0.3231])\n"
     ]
    },
    {
     "name": "stderr",
     "output_type": "stream",
     "text": [
      " 54%|█████▍    | 136/250 [01:55<01:59,  1.05s/it]"
     ]
    },
    {
     "name": "stdout",
     "output_type": "stream",
     "text": [
      "detecting 9 boxed of car in /mnt/zhangsn/data/V2X-Seq-SPD-Processed/0022_exp/0022_0_original_all_seperate_with_cooperative_pointcloud/images/000068_0.jpg, box_threshold: 0.3, logits: tensor([0.7807, 0.6798, 0.5448, 0.5490, 0.5084, 0.5311, 0.5233, 0.4039, 0.4238])\n"
     ]
    },
    {
     "name": "stderr",
     "output_type": "stream",
     "text": [
      " 55%|█████▍    | 137/250 [01:56<01:51,  1.01it/s]"
     ]
    },
    {
     "name": "stdout",
     "output_type": "stream",
     "text": [
      "detecting 17 boxed of car in /mnt/zhangsn/data/V2X-Seq-SPD-Processed/0022_exp/0022_0_original_all_seperate_with_cooperative_pointcloud/images/000068_1.jpg, box_threshold: 0.3, logits: tensor([0.6113, 0.6014, 0.5848, 0.6260, 0.5671, 0.5669, 0.5502, 0.5737, 0.6645,\n",
      "        0.5908, 0.5337, 0.4724, 0.3464, 0.3233, 0.3168, 0.3228, 0.4370])\n"
     ]
    },
    {
     "name": "stderr",
     "output_type": "stream",
     "text": [
      " 55%|█████▌    | 138/250 [01:57<01:52,  1.00s/it]"
     ]
    },
    {
     "name": "stdout",
     "output_type": "stream",
     "text": [
      "detecting 10 boxed of car in /mnt/zhangsn/data/V2X-Seq-SPD-Processed/0022_exp/0022_0_original_all_seperate_with_cooperative_pointcloud/images/000069_0.jpg, box_threshold: 0.3, logits: tensor([0.7975, 0.6977, 0.5452, 0.5746, 0.5302, 0.3789, 0.5037, 0.4439, 0.3977,\n",
      "        0.3535])\n"
     ]
    },
    {
     "name": "stderr",
     "output_type": "stream",
     "text": [
      " 56%|█████▌    | 139/250 [01:58<01:52,  1.01s/it]"
     ]
    },
    {
     "name": "stdout",
     "output_type": "stream",
     "text": [
      "detecting 16 boxed of car in /mnt/zhangsn/data/V2X-Seq-SPD-Processed/0022_exp/0022_0_original_all_seperate_with_cooperative_pointcloud/images/000069_1.jpg, box_threshold: 0.3, logits: tensor([0.6013, 0.6630, 0.5953, 0.5823, 0.6303, 0.5550, 0.5725, 0.5487, 0.5872,\n",
      "        0.5928, 0.5410, 0.4800, 0.3588, 0.3379, 0.3218, 0.4818])\n"
     ]
    },
    {
     "name": "stderr",
     "output_type": "stream",
     "text": [
      " 56%|█████▌    | 140/250 [01:59<01:53,  1.04s/it]"
     ]
    },
    {
     "name": "stdout",
     "output_type": "stream",
     "text": [
      "detecting 9 boxed of car in /mnt/zhangsn/data/V2X-Seq-SPD-Processed/0022_exp/0022_0_original_all_seperate_with_cooperative_pointcloud/images/000070_0.jpg, box_threshold: 0.3, logits: tensor([0.8019, 0.6968, 0.5535, 0.5876, 0.4904, 0.5314, 0.4463, 0.3785, 0.3705])\n"
     ]
    },
    {
     "name": "stderr",
     "output_type": "stream",
     "text": [
      " 56%|█████▋    | 141/250 [02:00<01:53,  1.04s/it]"
     ]
    },
    {
     "name": "stdout",
     "output_type": "stream",
     "text": [
      "detecting 15 boxed of car in /mnt/zhangsn/data/V2X-Seq-SPD-Processed/0022_exp/0022_0_original_all_seperate_with_cooperative_pointcloud/images/000070_1.jpg, box_threshold: 0.3, logits: tensor([0.6598, 0.5907, 0.5604, 0.5825, 0.6106, 0.5743, 0.5528, 0.5574, 0.5423,\n",
      "        0.5879, 0.5260, 0.4894, 0.3536, 0.3281, 0.4802])\n"
     ]
    },
    {
     "name": "stderr",
     "output_type": "stream",
     "text": [
      " 57%|█████▋    | 142/250 [02:01<01:54,  1.06s/it]"
     ]
    },
    {
     "name": "stdout",
     "output_type": "stream",
     "text": [
      "detecting 9 boxed of car in /mnt/zhangsn/data/V2X-Seq-SPD-Processed/0022_exp/0022_0_original_all_seperate_with_cooperative_pointcloud/images/000071_0.jpg, box_threshold: 0.3, logits: tensor([0.8294, 0.7034, 0.6026, 0.5909, 0.4399, 0.5103, 0.4370, 0.4564, 0.3680])\n"
     ]
    },
    {
     "name": "stderr",
     "output_type": "stream",
     "text": [
      " 57%|█████▋    | 143/250 [02:02<01:52,  1.06s/it]"
     ]
    },
    {
     "name": "stdout",
     "output_type": "stream",
     "text": [
      "detecting 15 boxed of car in /mnt/zhangsn/data/V2X-Seq-SPD-Processed/0022_exp/0022_0_original_all_seperate_with_cooperative_pointcloud/images/000071_1.jpg, box_threshold: 0.3, logits: tensor([0.5824, 0.5794, 0.5725, 0.5641, 0.5873, 0.5472, 0.5383, 0.5268, 0.5806,\n",
      "        0.4817, 0.6822, 0.4934, 0.3597, 0.3302, 0.4744])\n"
     ]
    },
    {
     "name": "stderr",
     "output_type": "stream",
     "text": [
      " 58%|█████▊    | 144/250 [02:03<01:47,  1.02s/it]"
     ]
    },
    {
     "name": "stdout",
     "output_type": "stream",
     "text": [
      "detecting 9 boxed of car in /mnt/zhangsn/data/V2X-Seq-SPD-Processed/0022_exp/0022_0_original_all_seperate_with_cooperative_pointcloud/images/000072_0.jpg, box_threshold: 0.3, logits: tensor([0.8225, 0.7374, 0.6840, 0.6343, 0.5616, 0.3471, 0.3695, 0.3843, 0.3520])\n"
     ]
    },
    {
     "name": "stderr",
     "output_type": "stream",
     "text": [
      " 58%|█████▊    | 145/250 [02:04<01:41,  1.04it/s]"
     ]
    },
    {
     "name": "stdout",
     "output_type": "stream",
     "text": [
      "detecting 15 boxed of car in /mnt/zhangsn/data/V2X-Seq-SPD-Processed/0022_exp/0022_0_original_all_seperate_with_cooperative_pointcloud/images/000072_1.jpg, box_threshold: 0.3, logits: tensor([0.6887, 0.5905, 0.5885, 0.5739, 0.5688, 0.5598, 0.5395, 0.5352, 0.5845,\n",
      "        0.4998, 0.4926, 0.3520, 0.5255, 0.3275, 0.5084])\n"
     ]
    },
    {
     "name": "stderr",
     "output_type": "stream",
     "text": [
      " 58%|█████▊    | 146/250 [02:05<01:47,  1.03s/it]"
     ]
    },
    {
     "name": "stdout",
     "output_type": "stream",
     "text": [
      "detecting 8 boxed of car in /mnt/zhangsn/data/V2X-Seq-SPD-Processed/0022_exp/0022_0_original_all_seperate_with_cooperative_pointcloud/images/000073_0.jpg, box_threshold: 0.3, logits: tensor([0.8357, 0.6646, 0.7259, 0.6934, 0.5337, 0.3129, 0.4211, 0.4006])\n"
     ]
    },
    {
     "name": "stderr",
     "output_type": "stream",
     "text": [
      " 59%|█████▉    | 147/250 [02:06<01:46,  1.04s/it]"
     ]
    },
    {
     "name": "stdout",
     "output_type": "stream",
     "text": [
      "detecting 16 boxed of car in /mnt/zhangsn/data/V2X-Seq-SPD-Processed/0022_exp/0022_0_original_all_seperate_with_cooperative_pointcloud/images/000073_1.jpg, box_threshold: 0.3, logits: tensor([0.7061, 0.6052, 0.5755, 0.5548, 0.5483, 0.5555, 0.5822, 0.4965, 0.5635,\n",
      "        0.5148, 0.4799, 0.5921, 0.3538, 0.3292, 0.3176, 0.4266])\n"
     ]
    },
    {
     "name": "stderr",
     "output_type": "stream",
     "text": [
      " 59%|█████▉    | 148/250 [02:07<01:46,  1.05s/it]"
     ]
    },
    {
     "name": "stdout",
     "output_type": "stream",
     "text": [
      "detecting 7 boxed of car in /mnt/zhangsn/data/V2X-Seq-SPD-Processed/0022_exp/0022_0_original_all_seperate_with_cooperative_pointcloud/images/000074_0.jpg, box_threshold: 0.3, logits: tensor([0.8283, 0.7379, 0.7305, 0.4521, 0.5147, 0.4017, 0.3285])\n"
     ]
    },
    {
     "name": "stderr",
     "output_type": "stream",
     "text": [
      " 60%|█████▉    | 149/250 [02:08<01:45,  1.05s/it]"
     ]
    },
    {
     "name": "stdout",
     "output_type": "stream",
     "text": [
      "detecting 15 boxed of car in /mnt/zhangsn/data/V2X-Seq-SPD-Processed/0022_exp/0022_0_original_all_seperate_with_cooperative_pointcloud/images/000074_1.jpg, box_threshold: 0.3, logits: tensor([0.6995, 0.6046, 0.5831, 0.5745, 0.5467, 0.5439, 0.5431, 0.5876, 0.4721,\n",
      "        0.5052, 0.4728, 0.5666, 0.3529, 0.3271, 0.4704])\n"
     ]
    },
    {
     "name": "stderr",
     "output_type": "stream",
     "text": [
      " 60%|██████    | 150/250 [02:09<01:45,  1.05s/it]"
     ]
    },
    {
     "name": "stdout",
     "output_type": "stream",
     "text": [
      "detecting 6 boxed of car in /mnt/zhangsn/data/V2X-Seq-SPD-Processed/0022_exp/0022_0_original_all_seperate_with_cooperative_pointcloud/images/000075_0.jpg, box_threshold: 0.3, logits: tensor([0.7966, 0.7320, 0.7048, 0.5067, 0.4936, 0.4302])\n"
     ]
    },
    {
     "name": "stderr",
     "output_type": "stream",
     "text": [
      " 60%|██████    | 151/250 [02:10<01:43,  1.04s/it]"
     ]
    },
    {
     "name": "stdout",
     "output_type": "stream",
     "text": [
      "detecting 16 boxed of car in /mnt/zhangsn/data/V2X-Seq-SPD-Processed/0022_exp/0022_0_original_all_seperate_with_cooperative_pointcloud/images/000075_1.jpg, box_threshold: 0.3, logits: tensor([0.7056, 0.5939, 0.5771, 0.5844, 0.5523, 0.5809, 0.5519, 0.5915, 0.5649,\n",
      "        0.4621, 0.5197, 0.4937, 0.3379, 0.3330, 0.3104, 0.4403])\n"
     ]
    },
    {
     "name": "stderr",
     "output_type": "stream",
     "text": [
      " 61%|██████    | 152/250 [02:11<01:36,  1.02it/s]"
     ]
    },
    {
     "name": "stdout",
     "output_type": "stream",
     "text": [
      "detecting 8 boxed of car in /mnt/zhangsn/data/V2X-Seq-SPD-Processed/0022_exp/0022_0_original_all_seperate_with_cooperative_pointcloud/images/000076_0.jpg, box_threshold: 0.3, logits: tensor([0.8315, 0.6924, 0.7132, 0.5310, 0.4038, 0.3234, 0.3404, 0.3483])\n"
     ]
    },
    {
     "name": "stderr",
     "output_type": "stream",
     "text": [
      " 61%|██████    | 153/250 [02:12<01:37,  1.00s/it]"
     ]
    },
    {
     "name": "stdout",
     "output_type": "stream",
     "text": [
      "detecting 14 boxed of car in /mnt/zhangsn/data/V2X-Seq-SPD-Processed/0022_exp/0022_0_original_all_seperate_with_cooperative_pointcloud/images/000076_1.jpg, box_threshold: 0.3, logits: tensor([0.6933, 0.5875, 0.5377, 0.5669, 0.5700, 0.5549, 0.5181, 0.5892, 0.5187,\n",
      "        0.4749, 0.4443, 0.5715, 0.3212, 0.4736])\n"
     ]
    },
    {
     "name": "stderr",
     "output_type": "stream",
     "text": [
      " 62%|██████▏   | 154/250 [02:13<01:35,  1.00it/s]"
     ]
    },
    {
     "name": "stdout",
     "output_type": "stream",
     "text": [
      "detecting 7 boxed of car in /mnt/zhangsn/data/V2X-Seq-SPD-Processed/0022_exp/0022_0_original_all_seperate_with_cooperative_pointcloud/images/000077_0.jpg, box_threshold: 0.3, logits: tensor([0.8346, 0.6752, 0.7241, 0.4366, 0.5371, 0.5132, 0.4066])\n"
     ]
    },
    {
     "name": "stderr",
     "output_type": "stream",
     "text": [
      " 62%|██████▏   | 155/250 [02:14<01:35,  1.01s/it]"
     ]
    },
    {
     "name": "stdout",
     "output_type": "stream",
     "text": [
      "detecting 14 boxed of car in /mnt/zhangsn/data/V2X-Seq-SPD-Processed/0022_exp/0022_0_original_all_seperate_with_cooperative_pointcloud/images/000077_1.jpg, box_threshold: 0.3, logits: tensor([0.7034, 0.6066, 0.5880, 0.5942, 0.5779, 0.5389, 0.5810, 0.5413, 0.5926,\n",
      "        0.5278, 0.4847, 0.3165, 0.4472, 0.4190])\n"
     ]
    },
    {
     "name": "stderr",
     "output_type": "stream",
     "text": [
      " 62%|██████▏   | 156/250 [02:15<01:36,  1.02s/it]"
     ]
    },
    {
     "name": "stdout",
     "output_type": "stream",
     "text": [
      "detecting 9 boxed of car in /mnt/zhangsn/data/V2X-Seq-SPD-Processed/0022_exp/0022_0_original_all_seperate_with_cooperative_pointcloud/images/000078_0.jpg, box_threshold: 0.3, logits: tensor([0.7640, 0.7094, 0.6384, 0.6014, 0.5409, 0.5041, 0.5457, 0.3131, 0.3430])\n"
     ]
    },
    {
     "name": "stderr",
     "output_type": "stream",
     "text": [
      " 63%|██████▎   | 157/250 [02:16<01:35,  1.03s/it]"
     ]
    },
    {
     "name": "stdout",
     "output_type": "stream",
     "text": [
      "detecting 16 boxed of car in /mnt/zhangsn/data/V2X-Seq-SPD-Processed/0022_exp/0022_0_original_all_seperate_with_cooperative_pointcloud/images/000078_1.jpg, box_threshold: 0.3, logits: tensor([0.7163, 0.6115, 0.6058, 0.5768, 0.5798, 0.5363, 0.6090, 0.5547, 0.5151,\n",
      "        0.4960, 0.5805, 0.3349, 0.3168, 0.3454, 0.4581, 0.3672])\n"
     ]
    },
    {
     "name": "stderr",
     "output_type": "stream",
     "text": [
      " 63%|██████▎   | 158/250 [02:18<01:35,  1.04s/it]"
     ]
    },
    {
     "name": "stdout",
     "output_type": "stream",
     "text": [
      "detecting 9 boxed of car in /mnt/zhangsn/data/V2X-Seq-SPD-Processed/0022_exp/0022_0_original_all_seperate_with_cooperative_pointcloud/images/000079_0.jpg, box_threshold: 0.3, logits: tensor([0.8046, 0.6894, 0.6156, 0.6033, 0.5280, 0.3117, 0.5124, 0.3027, 0.3253])\n"
     ]
    },
    {
     "name": "stderr",
     "output_type": "stream",
     "text": [
      " 64%|██████▎   | 159/250 [02:19<01:33,  1.03s/it]"
     ]
    },
    {
     "name": "stdout",
     "output_type": "stream",
     "text": [
      "detecting 14 boxed of car in /mnt/zhangsn/data/V2X-Seq-SPD-Processed/0022_exp/0022_0_original_all_seperate_with_cooperative_pointcloud/images/000079_1.jpg, box_threshold: 0.3, logits: tensor([0.7170, 0.6169, 0.6393, 0.5812, 0.5682, 0.5274, 0.6028, 0.5713, 0.5493,\n",
      "        0.4811, 0.5075, 0.3399, 0.3486, 0.4878])\n"
     ]
    },
    {
     "name": "stderr",
     "output_type": "stream",
     "text": [
      " 64%|██████▍   | 160/250 [02:19<01:27,  1.02it/s]"
     ]
    },
    {
     "name": "stdout",
     "output_type": "stream",
     "text": [
      "detecting 7 boxed of car in /mnt/zhangsn/data/V2X-Seq-SPD-Processed/0022_exp/0022_0_original_all_seperate_with_cooperative_pointcloud/images/000080_0.jpg, box_threshold: 0.3, logits: tensor([0.8247, 0.6898, 0.6371, 0.5687, 0.4399, 0.4658, 0.5664])\n"
     ]
    },
    {
     "name": "stderr",
     "output_type": "stream",
     "text": [
      " 64%|██████▍   | 161/250 [02:20<01:31,  1.02s/it]"
     ]
    },
    {
     "name": "stdout",
     "output_type": "stream",
     "text": [
      "detecting 14 boxed of car in /mnt/zhangsn/data/V2X-Seq-SPD-Processed/0022_exp/0022_0_original_all_seperate_with_cooperative_pointcloud/images/000080_1.jpg, box_threshold: 0.3, logits: tensor([0.6706, 0.5708, 0.5529, 0.5692, 0.6081, 0.6126, 0.4828, 0.5170, 0.4825,\n",
      "        0.3422, 0.7182, 0.3279, 0.5356, 0.4794])\n"
     ]
    },
    {
     "name": "stderr",
     "output_type": "stream",
     "text": [
      " 65%|██████▍   | 162/250 [02:22<01:30,  1.03s/it]"
     ]
    },
    {
     "name": "stdout",
     "output_type": "stream",
     "text": [
      "detecting 8 boxed of car in /mnt/zhangsn/data/V2X-Seq-SPD-Processed/0022_exp/0022_0_original_all_seperate_with_cooperative_pointcloud/images/000081_0.jpg, box_threshold: 0.3, logits: tensor([0.8385, 0.6278, 0.6817, 0.4775, 0.5547, 0.4643, 0.4665, 0.3564])\n"
     ]
    },
    {
     "name": "stderr",
     "output_type": "stream",
     "text": [
      " 65%|██████▌   | 163/250 [02:23<01:30,  1.04s/it]"
     ]
    },
    {
     "name": "stdout",
     "output_type": "stream",
     "text": [
      "detecting 14 boxed of car in /mnt/zhangsn/data/V2X-Seq-SPD-Processed/0022_exp/0022_0_original_all_seperate_with_cooperative_pointcloud/images/000081_1.jpg, box_threshold: 0.3, logits: tensor([0.7149, 0.6865, 0.6148, 0.5814, 0.5715, 0.5698, 0.6010, 0.4911, 0.5522,\n",
      "        0.5454, 0.4868, 0.3599, 0.3653, 0.5032])\n"
     ]
    },
    {
     "name": "stderr",
     "output_type": "stream",
     "text": [
      " 66%|██████▌   | 164/250 [02:24<01:30,  1.05s/it]"
     ]
    },
    {
     "name": "stdout",
     "output_type": "stream",
     "text": [
      "detecting 7 boxed of car in /mnt/zhangsn/data/V2X-Seq-SPD-Processed/0022_exp/0022_0_original_all_seperate_with_cooperative_pointcloud/images/000082_0.jpg, box_threshold: 0.3, logits: tensor([0.8384, 0.6473, 0.6956, 0.6518, 0.4242, 0.4335, 0.5026])\n"
     ]
    },
    {
     "name": "stderr",
     "output_type": "stream",
     "text": [
      " 66%|██████▌   | 165/250 [02:25<01:30,  1.06s/it]"
     ]
    },
    {
     "name": "stdout",
     "output_type": "stream",
     "text": [
      "detecting 16 boxed of car in /mnt/zhangsn/data/V2X-Seq-SPD-Processed/0022_exp/0022_0_original_all_seperate_with_cooperative_pointcloud/images/000082_1.jpg, box_threshold: 0.3, logits: tensor([0.7123, 0.6864, 0.5967, 0.5104, 0.5547, 0.5534, 0.6073, 0.5440, 0.5125,\n",
      "        0.4548, 0.3678, 0.4486, 0.3719, 0.3009, 0.4731, 0.3053])\n"
     ]
    },
    {
     "name": "stderr",
     "output_type": "stream",
     "text": [
      " 66%|██████▋   | 166/250 [02:26<01:28,  1.05s/it]"
     ]
    },
    {
     "name": "stdout",
     "output_type": "stream",
     "text": [
      "detecting 7 boxed of car in /mnt/zhangsn/data/V2X-Seq-SPD-Processed/0022_exp/0022_0_original_all_seperate_with_cooperative_pointcloud/images/000083_0.jpg, box_threshold: 0.3, logits: tensor([0.8131, 0.7050, 0.6410, 0.6784, 0.5100, 0.4332, 0.4656])\n"
     ]
    },
    {
     "name": "stderr",
     "output_type": "stream",
     "text": [
      " 67%|██████▋   | 167/250 [02:27<01:21,  1.01it/s]"
     ]
    },
    {
     "name": "stdout",
     "output_type": "stream",
     "text": [
      "detecting 16 boxed of car in /mnt/zhangsn/data/V2X-Seq-SPD-Processed/0022_exp/0022_0_original_all_seperate_with_cooperative_pointcloud/images/000083_1.jpg, box_threshold: 0.3, logits: tensor([0.7076, 0.6804, 0.5990, 0.5140, 0.5527, 0.5528, 0.6121, 0.5402, 0.5234,\n",
      "        0.4888, 0.4629, 0.3843, 0.3815, 0.4876, 0.3009, 0.3417])\n"
     ]
    },
    {
     "name": "stderr",
     "output_type": "stream",
     "text": [
      " 67%|██████▋   | 168/250 [02:28<01:21,  1.00it/s]"
     ]
    },
    {
     "name": "stdout",
     "output_type": "stream",
     "text": [
      "detecting 6 boxed of car in /mnt/zhangsn/data/V2X-Seq-SPD-Processed/0022_exp/0022_0_original_all_seperate_with_cooperative_pointcloud/images/000084_0.jpg, box_threshold: 0.3, logits: tensor([0.8115, 0.6700, 0.5859, 0.6025, 0.4972, 0.4502])\n"
     ]
    },
    {
     "name": "stderr",
     "output_type": "stream",
     "text": [
      " 68%|██████▊   | 169/250 [02:29<01:20,  1.00it/s]"
     ]
    },
    {
     "name": "stdout",
     "output_type": "stream",
     "text": [
      "detecting 16 boxed of car in /mnt/zhangsn/data/V2X-Seq-SPD-Processed/0022_exp/0022_0_original_all_seperate_with_cooperative_pointcloud/images/000084_1.jpg, box_threshold: 0.3, logits: tensor([0.7089, 0.6817, 0.6032, 0.5643, 0.6001, 0.5552, 0.6094, 0.5330, 0.5137,\n",
      "        0.5571, 0.4899, 0.4309, 0.3645, 0.3680, 0.4843, 0.3198])\n"
     ]
    },
    {
     "name": "stderr",
     "output_type": "stream",
     "text": [
      " 68%|██████▊   | 170/250 [02:30<01:22,  1.03s/it]"
     ]
    },
    {
     "name": "stdout",
     "output_type": "stream",
     "text": [
      "detecting 6 boxed of car in /mnt/zhangsn/data/V2X-Seq-SPD-Processed/0022_exp/0022_0_original_all_seperate_with_cooperative_pointcloud/images/000085_0.jpg, box_threshold: 0.3, logits: tensor([0.7843, 0.5803, 0.5481, 0.4993, 0.6622, 0.4160])\n"
     ]
    },
    {
     "name": "stderr",
     "output_type": "stream",
     "text": [
      " 68%|██████▊   | 171/250 [02:31<01:22,  1.04s/it]"
     ]
    },
    {
     "name": "stdout",
     "output_type": "stream",
     "text": [
      "detecting 16 boxed of car in /mnt/zhangsn/data/V2X-Seq-SPD-Processed/0022_exp/0022_0_original_all_seperate_with_cooperative_pointcloud/images/000085_1.jpg, box_threshold: 0.3, logits: tensor([0.7151, 0.6896, 0.6313, 0.6014, 0.5595, 0.5421, 0.5130, 0.5598, 0.6163,\n",
      "        0.4943, 0.5193, 0.4271, 0.3729, 0.3644, 0.5305, 0.3292])\n"
     ]
    },
    {
     "name": "stderr",
     "output_type": "stream",
     "text": [
      " 69%|██████▉   | 172/250 [02:32<01:21,  1.05s/it]"
     ]
    },
    {
     "name": "stdout",
     "output_type": "stream",
     "text": [
      "detecting 6 boxed of car in /mnt/zhangsn/data/V2X-Seq-SPD-Processed/0022_exp/0022_0_original_all_seperate_with_cooperative_pointcloud/images/000086_0.jpg, box_threshold: 0.3, logits: tensor([0.7720, 0.5918, 0.6613, 0.5095, 0.5352, 0.4544])\n"
     ]
    },
    {
     "name": "stderr",
     "output_type": "stream",
     "text": [
      " 69%|██████▉   | 173/250 [02:33<01:21,  1.06s/it]"
     ]
    },
    {
     "name": "stdout",
     "output_type": "stream",
     "text": [
      "detecting 15 boxed of car in /mnt/zhangsn/data/V2X-Seq-SPD-Processed/0022_exp/0022_0_original_all_seperate_with_cooperative_pointcloud/images/000086_1.jpg, box_threshold: 0.3, logits: tensor([0.6683, 0.6650, 0.5901, 0.5627, 0.5253, 0.5588, 0.6103, 0.5366, 0.5521,\n",
      "        0.7028, 0.4798, 0.4859, 0.3621, 0.3771, 0.5317])\n"
     ]
    },
    {
     "name": "stderr",
     "output_type": "stream",
     "text": [
      " 70%|██████▉   | 174/250 [02:34<01:17,  1.02s/it]"
     ]
    },
    {
     "name": "stdout",
     "output_type": "stream",
     "text": [
      "detecting 7 boxed of car in /mnt/zhangsn/data/V2X-Seq-SPD-Processed/0022_exp/0022_0_original_all_seperate_with_cooperative_pointcloud/images/000087_0.jpg, box_threshold: 0.3, logits: tensor([0.7380, 0.6478, 0.5633, 0.5076, 0.5551, 0.4638, 0.3770])\n"
     ]
    },
    {
     "name": "stderr",
     "output_type": "stream",
     "text": [
      " 70%|███████   | 175/250 [02:35<01:12,  1.03it/s]"
     ]
    },
    {
     "name": "stdout",
     "output_type": "stream",
     "text": [
      "detecting 16 boxed of car in /mnt/zhangsn/data/V2X-Seq-SPD-Processed/0022_exp/0022_0_original_all_seperate_with_cooperative_pointcloud/images/000087_1.jpg, box_threshold: 0.3, logits: tensor([0.6977, 0.6542, 0.6355, 0.6126, 0.5181, 0.5673, 0.5670, 0.6180, 0.5614,\n",
      "        0.5410, 0.5377, 0.5089, 0.4924, 0.3370, 0.3714, 0.5572])\n"
     ]
    },
    {
     "name": "stderr",
     "output_type": "stream",
     "text": [
      " 70%|███████   | 176/250 [02:36<01:16,  1.03s/it]"
     ]
    },
    {
     "name": "stdout",
     "output_type": "stream",
     "text": [
      "detecting 4 boxed of car in /mnt/zhangsn/data/V2X-Seq-SPD-Processed/0022_exp/0022_0_original_all_seperate_with_cooperative_pointcloud/images/000088_0.jpg, box_threshold: 0.3, logits: tensor([0.6775, 0.5721, 0.5517, 0.4528])\n"
     ]
    },
    {
     "name": "stderr",
     "output_type": "stream",
     "text": [
      " 71%|███████   | 177/250 [02:37<01:15,  1.03s/it]"
     ]
    },
    {
     "name": "stdout",
     "output_type": "stream",
     "text": [
      "detecting 17 boxed of car in /mnt/zhangsn/data/V2X-Seq-SPD-Processed/0022_exp/0022_0_original_all_seperate_with_cooperative_pointcloud/images/000088_1.jpg, box_threshold: 0.3, logits: tensor([0.6507, 0.6997, 0.6502, 0.6296, 0.6063, 0.5745, 0.6119, 0.5466, 0.5359,\n",
      "        0.5051, 0.5592, 0.4852, 0.4805, 0.3367, 0.3548, 0.4937, 0.3085])\n"
     ]
    },
    {
     "name": "stderr",
     "output_type": "stream",
     "text": [
      " 71%|███████   | 178/250 [02:38<01:14,  1.04s/it]"
     ]
    },
    {
     "name": "stdout",
     "output_type": "stream",
     "text": [
      "detecting 4 boxed of car in /mnt/zhangsn/data/V2X-Seq-SPD-Processed/0022_exp/0022_0_original_all_seperate_with_cooperative_pointcloud/images/000089_0.jpg, box_threshold: 0.3, logits: tensor([0.6917, 0.5750, 0.5419, 0.4137])\n"
     ]
    },
    {
     "name": "stderr",
     "output_type": "stream",
     "text": [
      " 72%|███████▏  | 179/250 [02:39<01:14,  1.05s/it]"
     ]
    },
    {
     "name": "stdout",
     "output_type": "stream",
     "text": [
      "detecting 16 boxed of car in /mnt/zhangsn/data/V2X-Seq-SPD-Processed/0022_exp/0022_0_original_all_seperate_with_cooperative_pointcloud/images/000089_1.jpg, box_threshold: 0.3, logits: tensor([0.6546, 0.6942, 0.6521, 0.6392, 0.5864, 0.5525, 0.6185, 0.5471, 0.5465,\n",
      "        0.5581, 0.5021, 0.4973, 0.4715, 0.3288, 0.3426, 0.5168])\n"
     ]
    },
    {
     "name": "stderr",
     "output_type": "stream",
     "text": [
      " 72%|███████▏  | 180/250 [02:40<01:13,  1.05s/it]"
     ]
    },
    {
     "name": "stdout",
     "output_type": "stream",
     "text": [
      "detecting 4 boxed of car in /mnt/zhangsn/data/V2X-Seq-SPD-Processed/0022_exp/0022_0_original_all_seperate_with_cooperative_pointcloud/images/000090_0.jpg, box_threshold: 0.3, logits: tensor([0.6795, 0.5368, 0.5571, 0.4996])\n"
     ]
    },
    {
     "name": "stderr",
     "output_type": "stream",
     "text": [
      " 72%|███████▏  | 181/250 [02:41<01:12,  1.04s/it]"
     ]
    },
    {
     "name": "stdout",
     "output_type": "stream",
     "text": [
      "detecting 16 boxed of car in /mnt/zhangsn/data/V2X-Seq-SPD-Processed/0022_exp/0022_0_original_all_seperate_with_cooperative_pointcloud/images/000090_1.jpg, box_threshold: 0.3, logits: tensor([0.6813, 0.6539, 0.6619, 0.6137, 0.6597, 0.5478, 0.5182, 0.5053, 0.5409,\n",
      "        0.4822, 0.4713, 0.3378, 0.4568, 0.5987, 0.5366, 0.3307])\n"
     ]
    },
    {
     "name": "stderr",
     "output_type": "stream",
     "text": [
      " 73%|███████▎  | 182/250 [02:42<01:06,  1.02it/s]"
     ]
    },
    {
     "name": "stdout",
     "output_type": "stream",
     "text": [
      "detecting 4 boxed of car in /mnt/zhangsn/data/V2X-Seq-SPD-Processed/0022_exp/0022_0_original_all_seperate_with_cooperative_pointcloud/images/000091_0.jpg, box_threshold: 0.3, logits: tensor([0.5804, 0.7050, 0.5454, 0.4406])\n"
     ]
    },
    {
     "name": "stderr",
     "output_type": "stream",
     "text": [
      " 73%|███████▎  | 183/250 [02:43<01:05,  1.03it/s]"
     ]
    },
    {
     "name": "stdout",
     "output_type": "stream",
     "text": [
      "detecting 16 boxed of car in /mnt/zhangsn/data/V2X-Seq-SPD-Processed/0022_exp/0022_0_original_all_seperate_with_cooperative_pointcloud/images/000091_1.jpg, box_threshold: 0.3, logits: tensor([0.6733, 0.6698, 0.6757, 0.6697, 0.5771, 0.6154, 0.5276, 0.5093, 0.5135,\n",
      "        0.5352, 0.4788, 0.4649, 0.4858, 0.3439, 0.5435, 0.3468])\n"
     ]
    },
    {
     "name": "stderr",
     "output_type": "stream",
     "text": [
      " 74%|███████▎  | 184/250 [02:44<01:05,  1.01it/s]"
     ]
    },
    {
     "name": "stdout",
     "output_type": "stream",
     "text": [
      "detecting 5 boxed of car in /mnt/zhangsn/data/V2X-Seq-SPD-Processed/0022_exp/0022_0_original_all_seperate_with_cooperative_pointcloud/images/000092_0.jpg, box_threshold: 0.3, logits: tensor([0.6970, 0.6242, 0.4439, 0.4078, 0.3071])\n"
     ]
    },
    {
     "name": "stderr",
     "output_type": "stream",
     "text": [
      " 74%|███████▍  | 185/250 [02:45<01:06,  1.02s/it]"
     ]
    },
    {
     "name": "stdout",
     "output_type": "stream",
     "text": [
      "detecting 16 boxed of car in /mnt/zhangsn/data/V2X-Seq-SPD-Processed/0022_exp/0022_0_original_all_seperate_with_cooperative_pointcloud/images/000092_1.jpg, box_threshold: 0.3, logits: tensor([0.6599, 0.6852, 0.6767, 0.6483, 0.5663, 0.6097, 0.5232, 0.5050, 0.5210,\n",
      "        0.5282, 0.4788, 0.4799, 0.4601, 0.3562, 0.5466, 0.3268])\n"
     ]
    },
    {
     "name": "stderr",
     "output_type": "stream",
     "text": [
      " 74%|███████▍  | 186/250 [02:46<01:06,  1.03s/it]"
     ]
    },
    {
     "name": "stdout",
     "output_type": "stream",
     "text": [
      "detecting 4 boxed of car in /mnt/zhangsn/data/V2X-Seq-SPD-Processed/0022_exp/0022_0_original_all_seperate_with_cooperative_pointcloud/images/000093_0.jpg, box_threshold: 0.3, logits: tensor([0.7222, 0.6654, 0.4251, 0.3250])\n"
     ]
    },
    {
     "name": "stderr",
     "output_type": "stream",
     "text": [
      " 75%|███████▍  | 187/250 [02:47<01:05,  1.04s/it]"
     ]
    },
    {
     "name": "stdout",
     "output_type": "stream",
     "text": [
      "detecting 17 boxed of car in /mnt/zhangsn/data/V2X-Seq-SPD-Processed/0022_exp/0022_0_original_all_seperate_with_cooperative_pointcloud/images/000093_1.jpg, box_threshold: 0.3, logits: tensor([0.6680, 0.6727, 0.6733, 0.6498, 0.5702, 0.6109, 0.5221, 0.5207, 0.5002,\n",
      "        0.5289, 0.4785, 0.4802, 0.4562, 0.3552, 0.3619, 0.5218, 0.3039])\n"
     ]
    },
    {
     "name": "stderr",
     "output_type": "stream",
     "text": [
      " 75%|███████▌  | 188/250 [02:48<01:05,  1.05s/it]"
     ]
    },
    {
     "name": "stdout",
     "output_type": "stream",
     "text": [
      "detecting 3 boxed of car in /mnt/zhangsn/data/V2X-Seq-SPD-Processed/0022_exp/0022_0_original_all_seperate_with_cooperative_pointcloud/images/000094_0.jpg, box_threshold: 0.3, logits: tensor([0.7512, 0.6083, 0.3745])\n"
     ]
    },
    {
     "name": "stderr",
     "output_type": "stream",
     "text": [
      " 76%|███████▌  | 189/250 [02:49<01:03,  1.04s/it]"
     ]
    },
    {
     "name": "stdout",
     "output_type": "stream",
     "text": [
      "detecting 17 boxed of car in /mnt/zhangsn/data/V2X-Seq-SPD-Processed/0022_exp/0022_0_original_all_seperate_with_cooperative_pointcloud/images/000094_1.jpg, box_threshold: 0.3, logits: tensor([0.6650, 0.6532, 0.6624, 0.6513, 0.5555, 0.6051, 0.5124, 0.5063, 0.5140,\n",
      "        0.4820, 0.4632, 0.4524, 0.4374, 0.3462, 0.5321, 0.3357, 0.3008])\n"
     ]
    },
    {
     "name": "stderr",
     "output_type": "stream",
     "text": [
      " 76%|███████▌  | 190/250 [02:50<01:00,  1.01s/it]"
     ]
    },
    {
     "name": "stdout",
     "output_type": "stream",
     "text": [
      "detecting 3 boxed of car in /mnt/zhangsn/data/V2X-Seq-SPD-Processed/0022_exp/0022_0_original_all_seperate_with_cooperative_pointcloud/images/000095_0.jpg, box_threshold: 0.3, logits: tensor([0.7906, 0.3883, 0.3867])\n"
     ]
    },
    {
     "name": "stderr",
     "output_type": "stream",
     "text": [
      " 76%|███████▋  | 191/250 [02:51<01:02,  1.06s/it]"
     ]
    },
    {
     "name": "stdout",
     "output_type": "stream",
     "text": [
      "detecting 18 boxed of car in /mnt/zhangsn/data/V2X-Seq-SPD-Processed/0022_exp/0022_0_original_all_seperate_with_cooperative_pointcloud/images/000095_1.jpg, box_threshold: 0.3, logits: tensor([0.6733, 0.6631, 0.6654, 0.6586, 0.5316, 0.6033, 0.5058, 0.4934, 0.4843,\n",
      "        0.5060, 0.4577, 0.4313, 0.4518, 0.3540, 0.5582, 0.3251, 0.3110, 0.3050])\n"
     ]
    },
    {
     "name": "stderr",
     "output_type": "stream",
     "text": [
      " 77%|███████▋  | 192/250 [02:53<01:02,  1.09s/it]"
     ]
    },
    {
     "name": "stdout",
     "output_type": "stream",
     "text": [
      "detecting 3 boxed of car in /mnt/zhangsn/data/V2X-Seq-SPD-Processed/0022_exp/0022_0_original_all_seperate_with_cooperative_pointcloud/images/000096_0.jpg, box_threshold: 0.3, logits: tensor([0.7559, 0.4092, 0.4584])\n"
     ]
    },
    {
     "name": "stderr",
     "output_type": "stream",
     "text": [
      " 77%|███████▋  | 193/250 [02:54<01:02,  1.10s/it]"
     ]
    },
    {
     "name": "stdout",
     "output_type": "stream",
     "text": [
      "detecting 16 boxed of car in /mnt/zhangsn/data/V2X-Seq-SPD-Processed/0022_exp/0022_0_original_all_seperate_with_cooperative_pointcloud/images/000096_1.jpg, box_threshold: 0.3, logits: tensor([0.6801, 0.6596, 0.6735, 0.6677, 0.5598, 0.6034, 0.5055, 0.4866, 0.5121,\n",
      "        0.4918, 0.4530, 0.4381, 0.4319, 0.5415, 0.3342, 0.3211])\n"
     ]
    },
    {
     "name": "stderr",
     "output_type": "stream",
     "text": [
      " 78%|███████▊  | 194/250 [02:55<01:01,  1.09s/it]"
     ]
    },
    {
     "name": "stdout",
     "output_type": "stream",
     "text": [
      "detecting 2 boxed of car in /mnt/zhangsn/data/V2X-Seq-SPD-Processed/0022_exp/0022_0_original_all_seperate_with_cooperative_pointcloud/images/000097_0.jpg, box_threshold: 0.3, logits: tensor([0.7718, 0.3775])\n"
     ]
    },
    {
     "name": "stderr",
     "output_type": "stream",
     "text": [
      " 78%|███████▊  | 195/250 [02:56<00:58,  1.07s/it]"
     ]
    },
    {
     "name": "stdout",
     "output_type": "stream",
     "text": [
      "detecting 16 boxed of car in /mnt/zhangsn/data/V2X-Seq-SPD-Processed/0022_exp/0022_0_original_all_seperate_with_cooperative_pointcloud/images/000097_1.jpg, box_threshold: 0.3, logits: tensor([0.6893, 0.6502, 0.6703, 0.6579, 0.6040, 0.5400, 0.5067, 0.5013, 0.4854,\n",
      "        0.5061, 0.4294, 0.4496, 0.4255, 0.5123, 0.3388, 0.3148])\n"
     ]
    },
    {
     "name": "stderr",
     "output_type": "stream",
     "text": [
      " 78%|███████▊  | 196/250 [02:57<00:55,  1.03s/it]"
     ]
    },
    {
     "name": "stdout",
     "output_type": "stream",
     "text": [
      "detecting 2 boxed of car in /mnt/zhangsn/data/V2X-Seq-SPD-Processed/0022_exp/0022_0_original_all_seperate_with_cooperative_pointcloud/images/000098_0.jpg, box_threshold: 0.3, logits: tensor([0.7694, 0.4372])\n"
     ]
    },
    {
     "name": "stderr",
     "output_type": "stream",
     "text": [
      " 79%|███████▉  | 197/250 [02:58<00:53,  1.00s/it]"
     ]
    },
    {
     "name": "stdout",
     "output_type": "stream",
     "text": [
      "detecting 17 boxed of car in /mnt/zhangsn/data/V2X-Seq-SPD-Processed/0022_exp/0022_0_original_all_seperate_with_cooperative_pointcloud/images/000098_1.jpg, box_threshold: 0.3, logits: tensor([0.6724, 0.6403, 0.6442, 0.6563, 0.4979, 0.4689, 0.5920, 0.4840, 0.4463,\n",
      "        0.4756, 0.4294, 0.3963, 0.3871, 0.3342, 0.3262, 0.3020, 0.5200])\n"
     ]
    },
    {
     "name": "stderr",
     "output_type": "stream",
     "text": [
      " 79%|███████▉  | 198/250 [02:59<00:57,  1.10s/it]"
     ]
    },
    {
     "name": "stdout",
     "output_type": "stream",
     "text": [
      "detecting 2 boxed of car in /mnt/zhangsn/data/V2X-Seq-SPD-Processed/0022_exp/0022_0_original_all_seperate_with_cooperative_pointcloud/images/000099_0.jpg, box_threshold: 0.3, logits: tensor([0.7757, 0.4789])\n"
     ]
    },
    {
     "name": "stderr",
     "output_type": "stream",
     "text": [
      " 80%|███████▉  | 199/250 [03:00<00:55,  1.09s/it]"
     ]
    },
    {
     "name": "stdout",
     "output_type": "stream",
     "text": [
      "detecting 17 boxed of car in /mnt/zhangsn/data/V2X-Seq-SPD-Processed/0022_exp/0022_0_original_all_seperate_with_cooperative_pointcloud/images/000099_1.jpg, box_threshold: 0.3, logits: tensor([0.6604, 0.6497, 0.6475, 0.6577, 0.5175, 0.6041, 0.4897, 0.4761, 0.4652,\n",
      "        0.4880, 0.4516, 0.4029, 0.4020, 0.3175, 0.4932, 0.3212, 0.3106])\n"
     ]
    },
    {
     "name": "stderr",
     "output_type": "stream",
     "text": [
      " 80%|████████  | 200/250 [03:01<00:54,  1.08s/it]"
     ]
    },
    {
     "name": "stdout",
     "output_type": "stream",
     "text": [
      "detecting 2 boxed of car in /mnt/zhangsn/data/V2X-Seq-SPD-Processed/0022_exp/0022_0_original_all_seperate_with_cooperative_pointcloud/images/000100_0.jpg, box_threshold: 0.3, logits: tensor([0.7779, 0.3697])\n"
     ]
    },
    {
     "name": "stderr",
     "output_type": "stream",
     "text": [
      " 80%|████████  | 201/250 [03:02<00:53,  1.08s/it]"
     ]
    },
    {
     "name": "stdout",
     "output_type": "stream",
     "text": [
      "detecting 16 boxed of car in /mnt/zhangsn/data/V2X-Seq-SPD-Processed/0022_exp/0022_0_original_all_seperate_with_cooperative_pointcloud/images/000100_1.jpg, box_threshold: 0.3, logits: tensor([0.6667, 0.6837, 0.6468, 0.6397, 0.5394, 0.4927, 0.4956, 0.6070, 0.4562,\n",
      "        0.4779, 0.4999, 0.4336, 0.4237, 0.3488, 0.5196, 0.3112])\n"
     ]
    },
    {
     "name": "stderr",
     "output_type": "stream",
     "text": [
      " 81%|████████  | 202/250 [03:03<00:51,  1.08s/it]"
     ]
    },
    {
     "name": "stdout",
     "output_type": "stream",
     "text": [
      "detecting 2 boxed of car in /mnt/zhangsn/data/V2X-Seq-SPD-Processed/0022_exp/0022_0_original_all_seperate_with_cooperative_pointcloud/images/000101_0.jpg, box_threshold: 0.3, logits: tensor([0.7523, 0.4125])\n"
     ]
    },
    {
     "name": "stderr",
     "output_type": "stream",
     "text": [
      " 81%|████████  | 203/250 [03:04<00:47,  1.02s/it]"
     ]
    },
    {
     "name": "stdout",
     "output_type": "stream",
     "text": [
      "detecting 15 boxed of car in /mnt/zhangsn/data/V2X-Seq-SPD-Processed/0022_exp/0022_0_original_all_seperate_with_cooperative_pointcloud/images/000101_1.jpg, box_threshold: 0.3, logits: tensor([0.6675, 0.6638, 0.6334, 0.6391, 0.5459, 0.4985, 0.6066, 0.4543, 0.4677,\n",
      "        0.4854, 0.4658, 0.4003, 0.4118, 0.5407, 0.3479])\n"
     ]
    },
    {
     "name": "stderr",
     "output_type": "stream",
     "text": [
      " 82%|████████▏ | 204/250 [03:05<00:44,  1.03it/s]"
     ]
    },
    {
     "name": "stdout",
     "output_type": "stream",
     "text": [
      "detecting 3 boxed of car in /mnt/zhangsn/data/V2X-Seq-SPD-Processed/0022_exp/0022_0_original_all_seperate_with_cooperative_pointcloud/images/000102_0.jpg, box_threshold: 0.3, logits: tensor([0.7853, 0.4104, 0.3349])\n"
     ]
    },
    {
     "name": "stderr",
     "output_type": "stream",
     "text": [
      " 82%|████████▏ | 205/250 [03:06<00:45,  1.01s/it]"
     ]
    },
    {
     "name": "stdout",
     "output_type": "stream",
     "text": [
      "detecting 16 boxed of car in /mnt/zhangsn/data/V2X-Seq-SPD-Processed/0022_exp/0022_0_original_all_seperate_with_cooperative_pointcloud/images/000102_1.jpg, box_threshold: 0.3, logits: tensor([0.6471, 0.6744, 0.6382, 0.5747, 0.5511, 0.5978, 0.4993, 0.5031, 0.4886,\n",
      "        0.4709, 0.4095, 0.5348, 0.4242, 0.4702, 0.3421, 0.3072])\n"
     ]
    },
    {
     "name": "stderr",
     "output_type": "stream",
     "text": [
      " 82%|████████▏ | 206/250 [03:07<00:44,  1.02s/it]"
     ]
    },
    {
     "name": "stdout",
     "output_type": "stream",
     "text": [
      "detecting 4 boxed of car in /mnt/zhangsn/data/V2X-Seq-SPD-Processed/0022_exp/0022_0_original_all_seperate_with_cooperative_pointcloud/images/000103_0.jpg, box_threshold: 0.3, logits: tensor([0.7815, 0.5381, 0.4215, 0.3642])\n"
     ]
    },
    {
     "name": "stderr",
     "output_type": "stream",
     "text": [
      " 83%|████████▎ | 207/250 [03:08<00:44,  1.03s/it]"
     ]
    },
    {
     "name": "stdout",
     "output_type": "stream",
     "text": [
      "detecting 17 boxed of car in /mnt/zhangsn/data/V2X-Seq-SPD-Processed/0022_exp/0022_0_original_all_seperate_with_cooperative_pointcloud/images/000103_1.jpg, box_threshold: 0.3, logits: tensor([0.6542, 0.6190, 0.6412, 0.5979, 0.5471, 0.4933, 0.4887, 0.5946, 0.4776,\n",
      "        0.4750, 0.4517, 0.4066, 0.5280, 0.4045, 0.3346, 0.3045, 0.3197])\n"
     ]
    },
    {
     "name": "stderr",
     "output_type": "stream",
     "text": [
      " 83%|████████▎ | 208/250 [03:09<00:43,  1.04s/it]"
     ]
    },
    {
     "name": "stdout",
     "output_type": "stream",
     "text": [
      "detecting 4 boxed of car in /mnt/zhangsn/data/V2X-Seq-SPD-Processed/0022_exp/0022_0_original_all_seperate_with_cooperative_pointcloud/images/000104_0.jpg, box_threshold: 0.3, logits: tensor([0.7668, 0.6473, 0.4283, 0.3744])\n"
     ]
    },
    {
     "name": "stderr",
     "output_type": "stream",
     "text": [
      " 84%|████████▎ | 209/250 [03:10<00:42,  1.04s/it]"
     ]
    },
    {
     "name": "stdout",
     "output_type": "stream",
     "text": [
      "detecting 17 boxed of car in /mnt/zhangsn/data/V2X-Seq-SPD-Processed/0022_exp/0022_0_original_all_seperate_with_cooperative_pointcloud/images/000104_1.jpg, box_threshold: 0.3, logits: tensor([0.6679, 0.6275, 0.6042, 0.6326, 0.5403, 0.5069, 0.5069, 0.5878, 0.4746,\n",
      "        0.4723, 0.4086, 0.4200, 0.4838, 0.5094, 0.3246, 0.3027, 0.3243])\n"
     ]
    },
    {
     "name": "stderr",
     "output_type": "stream",
     "text": [
      " 84%|████████▍ | 210/250 [03:11<00:41,  1.04s/it]"
     ]
    },
    {
     "name": "stdout",
     "output_type": "stream",
     "text": [
      "detecting 4 boxed of car in /mnt/zhangsn/data/V2X-Seq-SPD-Processed/0022_exp/0022_0_original_all_seperate_with_cooperative_pointcloud/images/000105_0.jpg, box_threshold: 0.3, logits: tensor([0.7879, 0.5940, 0.4389, 0.4010])\n"
     ]
    },
    {
     "name": "stderr",
     "output_type": "stream",
     "text": [
      " 84%|████████▍ | 211/250 [03:12<00:38,  1.03it/s]"
     ]
    },
    {
     "name": "stdout",
     "output_type": "stream",
     "text": [
      "detecting 15 boxed of car in /mnt/zhangsn/data/V2X-Seq-SPD-Processed/0022_exp/0022_0_original_all_seperate_with_cooperative_pointcloud/images/000105_1.jpg, box_threshold: 0.3, logits: tensor([0.6526, 0.6143, 0.6167, 0.6187, 0.5325, 0.5859, 0.4551, 0.4792, 0.4739,\n",
      "        0.4872, 0.4019, 0.4142, 0.3319, 0.4960, 0.4538])\n"
     ]
    },
    {
     "name": "stderr",
     "output_type": "stream",
     "text": [
      " 85%|████████▍ | 212/250 [03:13<00:37,  1.02it/s]"
     ]
    },
    {
     "name": "stdout",
     "output_type": "stream",
     "text": [
      "detecting 4 boxed of car in /mnt/zhangsn/data/V2X-Seq-SPD-Processed/0022_exp/0022_0_original_all_seperate_with_cooperative_pointcloud/images/000106_0.jpg, box_threshold: 0.3, logits: tensor([0.7762, 0.6430, 0.4269, 0.3916])\n"
     ]
    },
    {
     "name": "stderr",
     "output_type": "stream",
     "text": [
      " 85%|████████▌ | 213/250 [03:14<00:37,  1.00s/it]"
     ]
    },
    {
     "name": "stdout",
     "output_type": "stream",
     "text": [
      "detecting 15 boxed of car in /mnt/zhangsn/data/V2X-Seq-SPD-Processed/0022_exp/0022_0_original_all_seperate_with_cooperative_pointcloud/images/000106_1.jpg, box_threshold: 0.3, logits: tensor([0.6267, 0.6538, 0.6119, 0.6249, 0.5190, 0.4710, 0.5909, 0.4702, 0.4273,\n",
      "        0.4433, 0.4561, 0.3753, 0.3622, 0.5013, 0.3363])\n"
     ]
    },
    {
     "name": "stderr",
     "output_type": "stream",
     "text": [
      " 86%|████████▌ | 214/250 [03:15<00:36,  1.02s/it]"
     ]
    },
    {
     "name": "stdout",
     "output_type": "stream",
     "text": [
      "detecting 4 boxed of car in /mnt/zhangsn/data/V2X-Seq-SPD-Processed/0022_exp/0022_0_original_all_seperate_with_cooperative_pointcloud/images/000107_0.jpg, box_threshold: 0.3, logits: tensor([0.7968, 0.6816, 0.4063, 0.3692])\n"
     ]
    },
    {
     "name": "stderr",
     "output_type": "stream",
     "text": [
      " 86%|████████▌ | 215/250 [03:16<00:36,  1.03s/it]"
     ]
    },
    {
     "name": "stdout",
     "output_type": "stream",
     "text": [
      "detecting 17 boxed of car in /mnt/zhangsn/data/V2X-Seq-SPD-Processed/0022_exp/0022_0_original_all_seperate_with_cooperative_pointcloud/images/000107_1.jpg, box_threshold: 0.3, logits: tensor([0.6379, 0.6184, 0.6611, 0.5983, 0.5346, 0.5967, 0.4821, 0.4392, 0.4559,\n",
      "        0.4597, 0.3881, 0.3762, 0.3841, 0.3319, 0.5250, 0.3526, 0.3189])\n"
     ]
    },
    {
     "name": "stderr",
     "output_type": "stream",
     "text": [
      " 86%|████████▋ | 216/250 [03:17<00:35,  1.05s/it]"
     ]
    },
    {
     "name": "stdout",
     "output_type": "stream",
     "text": [
      "detecting 5 boxed of car in /mnt/zhangsn/data/V2X-Seq-SPD-Processed/0022_exp/0022_0_original_all_seperate_with_cooperative_pointcloud/images/000108_0.jpg, box_threshold: 0.3, logits: tensor([0.7813, 0.7185, 0.4287, 0.3582, 0.3017])\n"
     ]
    },
    {
     "name": "stderr",
     "output_type": "stream",
     "text": [
      " 87%|████████▋ | 217/250 [03:18<00:34,  1.05s/it]"
     ]
    },
    {
     "name": "stdout",
     "output_type": "stream",
     "text": [
      "detecting 17 boxed of car in /mnt/zhangsn/data/V2X-Seq-SPD-Processed/0022_exp/0022_0_original_all_seperate_with_cooperative_pointcloud/images/000108_1.jpg, box_threshold: 0.3, logits: tensor([0.6469, 0.5686, 0.6093, 0.6158, 0.5266, 0.5867, 0.4769, 0.4735, 0.4458,\n",
      "        0.4649, 0.4042, 0.3854, 0.4074, 0.5247, 0.3166, 0.3253, 0.3509])\n"
     ]
    },
    {
     "name": "stderr",
     "output_type": "stream",
     "text": [
      " 87%|████████▋ | 218/250 [03:19<00:31,  1.00it/s]"
     ]
    },
    {
     "name": "stdout",
     "output_type": "stream",
     "text": [
      "detecting 4 boxed of car in /mnt/zhangsn/data/V2X-Seq-SPD-Processed/0022_exp/0022_0_original_all_seperate_with_cooperative_pointcloud/images/000109_0.jpg, box_threshold: 0.3, logits: tensor([0.7776, 0.7519, 0.4520, 0.4915])\n"
     ]
    },
    {
     "name": "stderr",
     "output_type": "stream",
     "text": [
      " 88%|████████▊ | 219/250 [03:20<00:29,  1.04it/s]"
     ]
    },
    {
     "name": "stdout",
     "output_type": "stream",
     "text": [
      "detecting 17 boxed of car in /mnt/zhangsn/data/V2X-Seq-SPD-Processed/0022_exp/0022_0_original_all_seperate_with_cooperative_pointcloud/images/000109_1.jpg, box_threshold: 0.3, logits: tensor([0.6540, 0.5988, 0.5316, 0.5965, 0.4975, 0.5867, 0.4796, 0.4561, 0.4246,\n",
      "        0.4595, 0.3961, 0.4097, 0.3597, 0.5541, 0.3180, 0.3374, 0.6183])\n"
     ]
    },
    {
     "name": "stderr",
     "output_type": "stream",
     "text": [
      " 88%|████████▊ | 220/250 [03:21<00:29,  1.00it/s]"
     ]
    },
    {
     "name": "stdout",
     "output_type": "stream",
     "text": [
      "detecting 5 boxed of car in /mnt/zhangsn/data/V2X-Seq-SPD-Processed/0022_exp/0022_0_original_all_seperate_with_cooperative_pointcloud/images/000110_0.jpg, box_threshold: 0.3, logits: tensor([0.7621, 0.7770, 0.3771, 0.4007, 0.3530])\n"
     ]
    },
    {
     "name": "stderr",
     "output_type": "stream",
     "text": [
      " 88%|████████▊ | 221/250 [03:22<00:29,  1.02s/it]"
     ]
    },
    {
     "name": "stdout",
     "output_type": "stream",
     "text": [
      "detecting 17 boxed of car in /mnt/zhangsn/data/V2X-Seq-SPD-Processed/0022_exp/0022_0_original_all_seperate_with_cooperative_pointcloud/images/000110_1.jpg, box_threshold: 0.3, logits: tensor([0.6410, 0.6529, 0.5430, 0.5719, 0.4927, 0.5983, 0.4646, 0.4615, 0.4533,\n",
      "        0.6079, 0.4040, 0.3882, 0.4076, 0.3645, 0.3080, 0.3128, 0.5136])\n"
     ]
    },
    {
     "name": "stderr",
     "output_type": "stream",
     "text": [
      " 89%|████████▉ | 222/250 [03:23<00:29,  1.04s/it]"
     ]
    },
    {
     "name": "stdout",
     "output_type": "stream",
     "text": [
      "detecting 3 boxed of car in /mnt/zhangsn/data/V2X-Seq-SPD-Processed/0022_exp/0022_0_original_all_seperate_with_cooperative_pointcloud/images/000111_0.jpg, box_threshold: 0.3, logits: tensor([0.7595, 0.5897, 0.4421])\n"
     ]
    },
    {
     "name": "stderr",
     "output_type": "stream",
     "text": [
      " 89%|████████▉ | 223/250 [03:25<00:28,  1.05s/it]"
     ]
    },
    {
     "name": "stdout",
     "output_type": "stream",
     "text": [
      "detecting 17 boxed of car in /mnt/zhangsn/data/V2X-Seq-SPD-Processed/0022_exp/0022_0_original_all_seperate_with_cooperative_pointcloud/images/000111_1.jpg, box_threshold: 0.3, logits: tensor([0.6479, 0.5968, 0.5570, 0.5897, 0.5314, 0.4965, 0.5988, 0.4749, 0.4477,\n",
      "        0.4493, 0.4538, 0.5286, 0.4047, 0.3451, 0.3375, 0.3221, 0.3765])\n"
     ]
    },
    {
     "name": "stderr",
     "output_type": "stream",
     "text": [
      " 90%|████████▉ | 224/250 [03:26<00:27,  1.06s/it]"
     ]
    },
    {
     "name": "stdout",
     "output_type": "stream",
     "text": [
      "detecting 3 boxed of car in /mnt/zhangsn/data/V2X-Seq-SPD-Processed/0022_exp/0022_0_original_all_seperate_with_cooperative_pointcloud/images/000112_0.jpg, box_threshold: 0.3, logits: tensor([0.7661, 0.7798, 0.5173])\n"
     ]
    },
    {
     "name": "stderr",
     "output_type": "stream",
     "text": [
      " 90%|█████████ | 225/250 [03:27<00:26,  1.05s/it]"
     ]
    },
    {
     "name": "stdout",
     "output_type": "stream",
     "text": [
      "detecting 17 boxed of car in /mnt/zhangsn/data/V2X-Seq-SPD-Processed/0022_exp/0022_0_original_all_seperate_with_cooperative_pointcloud/images/000112_1.jpg, box_threshold: 0.3, logits: tensor([0.5310, 0.6424, 0.5846, 0.5833, 0.5237, 0.4432, 0.4845, 0.5876, 0.4693,\n",
      "        0.4429, 0.4502, 0.3949, 0.5513, 0.3811, 0.3509, 0.3518, 0.3229])\n"
     ]
    },
    {
     "name": "stderr",
     "output_type": "stream",
     "text": [
      " 90%|█████████ | 226/250 [03:27<00:23,  1.01it/s]"
     ]
    },
    {
     "name": "stdout",
     "output_type": "stream",
     "text": [
      "detecting 4 boxed of car in /mnt/zhangsn/data/V2X-Seq-SPD-Processed/0022_exp/0022_0_original_all_seperate_with_cooperative_pointcloud/images/000113_0.jpg, box_threshold: 0.3, logits: tensor([0.8548, 0.7413, 0.4941, 0.3829])\n"
     ]
    },
    {
     "name": "stderr",
     "output_type": "stream",
     "text": [
      " 91%|█████████ | 227/250 [03:29<00:23,  1.04s/it]"
     ]
    },
    {
     "name": "stdout",
     "output_type": "stream",
     "text": [
      "detecting 17 boxed of car in /mnt/zhangsn/data/V2X-Seq-SPD-Processed/0022_exp/0022_0_original_all_seperate_with_cooperative_pointcloud/images/000113_1.jpg, box_threshold: 0.3, logits: tensor([0.6900, 0.6285, 0.5799, 0.5771, 0.5210, 0.5983, 0.4746, 0.4684, 0.4432,\n",
      "        0.4498, 0.4413, 0.4006, 0.3766, 0.3276, 0.3562, 0.3385, 0.5581])\n"
     ]
    },
    {
     "name": "stderr",
     "output_type": "stream",
     "text": [
      " 91%|█████████ | 228/250 [03:30<00:22,  1.04s/it]"
     ]
    },
    {
     "name": "stdout",
     "output_type": "stream",
     "text": [
      "detecting 3 boxed of car in /mnt/zhangsn/data/V2X-Seq-SPD-Processed/0022_exp/0022_0_original_all_seperate_with_cooperative_pointcloud/images/000114_0.jpg, box_threshold: 0.3, logits: tensor([0.8231, 0.7374, 0.5098])\n"
     ]
    },
    {
     "name": "stderr",
     "output_type": "stream",
     "text": [
      " 92%|█████████▏| 229/250 [03:31<00:22,  1.05s/it]"
     ]
    },
    {
     "name": "stdout",
     "output_type": "stream",
     "text": [
      "detecting 17 boxed of car in /mnt/zhangsn/data/V2X-Seq-SPD-Processed/0022_exp/0022_0_original_all_seperate_with_cooperative_pointcloud/images/000114_1.jpg, box_threshold: 0.3, logits: tensor([0.7117, 0.6217, 0.5893, 0.5795, 0.5309, 0.6068, 0.4755, 0.4709, 0.4491,\n",
      "        0.4541, 0.4079, 0.4321, 0.3774, 0.3416, 0.3633, 0.3499, 0.5464])\n"
     ]
    },
    {
     "name": "stderr",
     "output_type": "stream",
     "text": [
      " 92%|█████████▏| 230/250 [03:32<00:21,  1.06s/it]"
     ]
    },
    {
     "name": "stdout",
     "output_type": "stream",
     "text": [
      "detecting 3 boxed of car in /mnt/zhangsn/data/V2X-Seq-SPD-Processed/0022_exp/0022_0_original_all_seperate_with_cooperative_pointcloud/images/000115_0.jpg, box_threshold: 0.3, logits: tensor([0.6136, 0.4425, 0.5280])\n"
     ]
    },
    {
     "name": "stderr",
     "output_type": "stream",
     "text": [
      " 92%|█████████▏| 231/250 [03:33<00:20,  1.06s/it]"
     ]
    },
    {
     "name": "stdout",
     "output_type": "stream",
     "text": [
      "detecting 17 boxed of car in /mnt/zhangsn/data/V2X-Seq-SPD-Processed/0022_exp/0022_0_original_all_seperate_with_cooperative_pointcloud/images/000115_1.jpg, box_threshold: 0.3, logits: tensor([0.6711, 0.6262, 0.5886, 0.5754, 0.5364, 0.5904, 0.4526, 0.4240, 0.4600,\n",
      "        0.4534, 0.4115, 0.3878, 0.3628, 0.3567, 0.3567, 0.5143, 0.3463])\n"
     ]
    },
    {
     "name": "stderr",
     "output_type": "stream",
     "text": [
      " 93%|█████████▎| 232/250 [03:34<00:19,  1.06s/it]"
     ]
    },
    {
     "name": "stdout",
     "output_type": "stream",
     "text": [
      "detecting 1 boxed of car in /mnt/zhangsn/data/V2X-Seq-SPD-Processed/0022_exp/0022_0_original_all_seperate_with_cooperative_pointcloud/images/000116_0.jpg, box_threshold: 0.3, logits: tensor([0.5926])\n"
     ]
    },
    {
     "name": "stderr",
     "output_type": "stream",
     "text": [
      " 93%|█████████▎| 233/250 [03:35<00:16,  1.00it/s]"
     ]
    },
    {
     "name": "stdout",
     "output_type": "stream",
     "text": [
      "detecting 17 boxed of car in /mnt/zhangsn/data/V2X-Seq-SPD-Processed/0022_exp/0022_0_original_all_seperate_with_cooperative_pointcloud/images/000116_1.jpg, box_threshold: 0.3, logits: tensor([0.6548, 0.6284, 0.5844, 0.5713, 0.5187, 0.5915, 0.4413, 0.4516, 0.4482,\n",
      "        0.4448, 0.4058, 0.3912, 0.3535, 0.3411, 0.3444, 0.4934, 0.3392])\n"
     ]
    },
    {
     "name": "stderr",
     "output_type": "stream",
     "text": [
      " 94%|█████████▎| 234/250 [03:36<00:15,  1.04it/s]"
     ]
    },
    {
     "name": "stdout",
     "output_type": "stream",
     "text": [
      "detecting 1 boxed of car in /mnt/zhangsn/data/V2X-Seq-SPD-Processed/0022_exp/0022_0_original_all_seperate_with_cooperative_pointcloud/images/000117_0.jpg, box_threshold: 0.3, logits: tensor([0.6411])\n"
     ]
    },
    {
     "name": "stderr",
     "output_type": "stream",
     "text": [
      " 94%|█████████▍| 235/250 [03:37<00:15,  1.01s/it]"
     ]
    },
    {
     "name": "stdout",
     "output_type": "stream",
     "text": [
      "detecting 17 boxed of car in /mnt/zhangsn/data/V2X-Seq-SPD-Processed/0022_exp/0022_0_original_all_seperate_with_cooperative_pointcloud/images/000117_1.jpg, box_threshold: 0.3, logits: tensor([0.6439, 0.6159, 0.5714, 0.5204, 0.5810, 0.5929, 0.4633, 0.4279, 0.4612,\n",
      "        0.4143, 0.4355, 0.3860, 0.3551, 0.3464, 0.3295, 0.3439, 0.4593])\n"
     ]
    },
    {
     "name": "stderr",
     "output_type": "stream",
     "text": [
      " 94%|█████████▍| 236/250 [03:38<00:14,  1.04s/it]"
     ]
    },
    {
     "name": "stdout",
     "output_type": "stream",
     "text": [
      "detecting 1 boxed of car in /mnt/zhangsn/data/V2X-Seq-SPD-Processed/0022_exp/0022_0_original_all_seperate_with_cooperative_pointcloud/images/000118_0.jpg, box_threshold: 0.3, logits: tensor([0.6562])\n"
     ]
    },
    {
     "name": "stderr",
     "output_type": "stream",
     "text": [
      " 95%|█████████▍| 237/250 [03:39<00:13,  1.05s/it]"
     ]
    },
    {
     "name": "stdout",
     "output_type": "stream",
     "text": [
      "detecting 17 boxed of car in /mnt/zhangsn/data/V2X-Seq-SPD-Processed/0022_exp/0022_0_original_all_seperate_with_cooperative_pointcloud/images/000118_1.jpg, box_threshold: 0.3, logits: tensor([0.7243, 0.6178, 0.6106, 0.5725, 0.5538, 0.5187, 0.4443, 0.4539, 0.4564,\n",
      "        0.4381, 0.4184, 0.3917, 0.3447, 0.3718, 0.4185, 0.3180, 0.3656])\n"
     ]
    },
    {
     "name": "stderr",
     "output_type": "stream",
     "text": [
      " 95%|█████████▌| 238/250 [03:40<00:12,  1.05s/it]"
     ]
    },
    {
     "name": "stdout",
     "output_type": "stream",
     "text": [
      "detecting 2 boxed of car in /mnt/zhangsn/data/V2X-Seq-SPD-Processed/0022_exp/0022_0_original_all_seperate_with_cooperative_pointcloud/images/000119_0.jpg, box_threshold: 0.3, logits: tensor([0.6714, 0.3097])\n"
     ]
    },
    {
     "name": "stderr",
     "output_type": "stream",
     "text": [
      " 96%|█████████▌| 239/250 [03:41<00:11,  1.06s/it]"
     ]
    },
    {
     "name": "stdout",
     "output_type": "stream",
     "text": [
      "detecting 17 boxed of car in /mnt/zhangsn/data/V2X-Seq-SPD-Processed/0022_exp/0022_0_original_all_seperate_with_cooperative_pointcloud/images/000119_1.jpg, box_threshold: 0.3, logits: tensor([0.6756, 0.6016, 0.6128, 0.5582, 0.5497, 0.5006, 0.4349, 0.4330, 0.3936,\n",
      "        0.3990, 0.3711, 0.4135, 0.5629, 0.3230, 0.3419, 0.3041, 0.3220])\n"
     ]
    },
    {
     "name": "stderr",
     "output_type": "stream",
     "text": [
      " 96%|█████████▌| 240/250 [03:42<00:10,  1.04s/it]"
     ]
    },
    {
     "name": "stdout",
     "output_type": "stream",
     "text": [
      "detecting 1 boxed of car in /mnt/zhangsn/data/V2X-Seq-SPD-Processed/0022_exp/0022_0_original_all_seperate_with_cooperative_pointcloud/images/000120_0.jpg, box_threshold: 0.3, logits: tensor([0.6364])\n"
     ]
    },
    {
     "name": "stderr",
     "output_type": "stream",
     "text": [
      " 96%|█████████▋| 241/250 [03:43<00:08,  1.02it/s]"
     ]
    },
    {
     "name": "stdout",
     "output_type": "stream",
     "text": [
      "detecting 18 boxed of car in /mnt/zhangsn/data/V2X-Seq-SPD-Processed/0022_exp/0022_0_original_all_seperate_with_cooperative_pointcloud/images/000120_1.jpg, box_threshold: 0.3, logits: tensor([0.6099, 0.4903, 0.5374, 0.5823, 0.5579, 0.4027, 0.6080, 0.4160, 0.3881,\n",
      "        0.4198, 0.4288, 0.3813, 0.4084, 0.3366, 0.3640, 0.3360, 0.3069, 0.3384])\n"
     ]
    },
    {
     "name": "stderr",
     "output_type": "stream",
     "text": [
      " 97%|█████████▋| 242/250 [03:44<00:07,  1.01it/s]"
     ]
    },
    {
     "name": "stdout",
     "output_type": "stream",
     "text": [
      "detecting 2 boxed of car in /mnt/zhangsn/data/V2X-Seq-SPD-Processed/0022_exp/0022_0_original_all_seperate_with_cooperative_pointcloud/images/000121_0.jpg, box_threshold: 0.3, logits: tensor([0.6909, 0.3228])\n"
     ]
    },
    {
     "name": "stderr",
     "output_type": "stream",
     "text": [
      " 97%|█████████▋| 243/250 [03:45<00:06,  1.13it/s]"
     ]
    },
    {
     "name": "stdout",
     "output_type": "stream",
     "text": [
      "detecting 16 boxed of car in /mnt/zhangsn/data/V2X-Seq-SPD-Processed/0022_exp/0022_0_original_all_seperate_with_cooperative_pointcloud/images/000121_1.jpg, box_threshold: 0.3, logits: tensor([0.6720, 0.6125, 0.6038, 0.5403, 0.5205, 0.4826, 0.4165, 0.3950, 0.4188,\n",
      "        0.4079, 0.3642, 0.3575, 0.3370, 0.3357, 0.5926, 0.3438])\n"
     ]
    },
    {
     "name": "stderr",
     "output_type": "stream",
     "text": [
      " 98%|█████████▊| 244/250 [03:46<00:05,  1.06it/s]"
     ]
    },
    {
     "name": "stdout",
     "output_type": "stream",
     "text": [
      "detecting 1 boxed of car in /mnt/zhangsn/data/V2X-Seq-SPD-Processed/0022_exp/0022_0_original_all_seperate_with_cooperative_pointcloud/images/000122_0.jpg, box_threshold: 0.3, logits: tensor([0.6323])\n"
     ]
    },
    {
     "name": "stderr",
     "output_type": "stream",
     "text": [
      " 98%|█████████▊| 245/250 [03:47<00:04,  1.02it/s]"
     ]
    },
    {
     "name": "stdout",
     "output_type": "stream",
     "text": [
      "detecting 22 boxed of car in /mnt/zhangsn/data/V2X-Seq-SPD-Processed/0022_exp/0022_0_original_all_seperate_with_cooperative_pointcloud/images/000122_1.jpg, box_threshold: 0.3, logits: tensor([0.6489, 0.5856, 0.5047, 0.5358, 0.6020, 0.4851, 0.3087, 0.4086, 0.3748,\n",
      "        0.4420, 0.5729, 0.4282, 0.3823, 0.4001, 0.3790, 0.3378, 0.3142, 0.3394,\n",
      "        0.3175, 0.3097, 0.3363, 0.3838])\n"
     ]
    },
    {
     "name": "stderr",
     "output_type": "stream",
     "text": [
      " 98%|█████████▊| 246/250 [03:48<00:04,  1.02s/it]"
     ]
    },
    {
     "name": "stdout",
     "output_type": "stream",
     "text": [
      "detecting 2 boxed of car in /mnt/zhangsn/data/V2X-Seq-SPD-Processed/0022_exp/0022_0_original_all_seperate_with_cooperative_pointcloud/images/000123_0.jpg, box_threshold: 0.3, logits: tensor([0.6630, 0.4596])\n"
     ]
    },
    {
     "name": "stderr",
     "output_type": "stream",
     "text": [
      " 99%|█████████▉| 247/250 [03:49<00:03,  1.04s/it]"
     ]
    },
    {
     "name": "stdout",
     "output_type": "stream",
     "text": [
      "detecting 20 boxed of car in /mnt/zhangsn/data/V2X-Seq-SPD-Processed/0022_exp/0022_0_original_all_seperate_with_cooperative_pointcloud/images/000123_1.jpg, box_threshold: 0.3, logits: tensor([0.7196, 0.6980, 0.5702, 0.4989, 0.6191, 0.5107, 0.4680, 0.4245, 0.4424,\n",
      "        0.3871, 0.5274, 0.4101, 0.3480, 0.4006, 0.3493, 0.3759, 0.3602, 0.3124,\n",
      "        0.3282, 0.4143])\n"
     ]
    },
    {
     "name": "stderr",
     "output_type": "stream",
     "text": [
      " 99%|█████████▉| 248/250 [03:50<00:02,  1.05s/it]"
     ]
    },
    {
     "name": "stdout",
     "output_type": "stream",
     "text": [
      "detecting 2 boxed of car in /mnt/zhangsn/data/V2X-Seq-SPD-Processed/0022_exp/0022_0_original_all_seperate_with_cooperative_pointcloud/images/000124_0.jpg, box_threshold: 0.3, logits: tensor([0.6785, 0.3807])\n"
     ]
    },
    {
     "name": "stderr",
     "output_type": "stream",
     "text": [
      "100%|█████████▉| 249/250 [03:51<00:00,  1.00it/s]"
     ]
    },
    {
     "name": "stdout",
     "output_type": "stream",
     "text": [
      "detecting 20 boxed of car in /mnt/zhangsn/data/V2X-Seq-SPD-Processed/0022_exp/0022_0_original_all_seperate_with_cooperative_pointcloud/images/000124_1.jpg, box_threshold: 0.3, logits: tensor([0.7076, 0.7382, 0.5750, 0.5268, 0.6286, 0.4996, 0.4444, 0.4212, 0.4292,\n",
      "        0.5068, 0.4088, 0.3798, 0.3907, 0.3332, 0.3160, 0.3474, 0.3598, 0.3295,\n",
      "        0.3195, 0.4043])\n"
     ]
    },
    {
     "name": "stderr",
     "output_type": "stream",
     "text": [
      "100%|██████████| 250/250 [03:52<00:00,  1.08it/s]\n"
     ]
    }
   ],
   "source": [
    "segment_with_text_prompt(\n",
    "    datadir=args.datadir, \n",
    "    BOX_TRESHOLD=box_threshold,\n",
    "    TEXT_TRESHOLD=args.text_threshold,\n",
    "    ignore_exists=args.ignore_exists,\n",
    ")"
   ]
  },
  {
   "cell_type": "code",
   "execution_count": 25,
   "metadata": {},
   "outputs": [
    {
     "name": "stderr",
     "output_type": "stream",
     "text": [
      "100%|██████████| 250/250 [00:07<00:00, 34.25it/s]"
     ]
    },
    {
     "name": "stdout",
     "output_type": "stream",
     "text": [
      "处理完成！结果保存在: /mnt/zhangsn/data/V2X-Seq-SPD-Processed/0022_exp/0022_0_original_all_seperate_with_cooperative_pointcloud/car_mask_visualization_1\n"
     ]
    },
    {
     "name": "stderr",
     "output_type": "stream",
     "text": [
      "\n"
     ]
    }
   ],
   "source": [
    "import os\n",
    "import cv2\n",
    "import numpy as np\n",
    "from tqdm import tqdm\n",
    "\n",
    "# 定义路径\n",
    "image_folder = args.datadir + \"/images\"  # 原始图片文件夹\n",
    "mask_folder = args.datadir + \"/car_mask_1\"  # mask文件夹\n",
    "output_folder = args.datadir + \"/car_mask_visualization_1\"  # 输出文件夹\n",
    "\n",
    "# 创建输出文件夹\n",
    "os.makedirs(output_folder, exist_ok=True)\n",
    "\n",
    "# 获取所有mask文件\n",
    "mask_files = sorted(os.listdir(mask_folder))\n",
    "\n",
    "# 处理每个文件\n",
    "for mask_file in tqdm(mask_files):\n",
    "    if not mask_file.endswith('.jpg'):  # 假设mask是png格式\n",
    "        continue\n",
    "        \n",
    "    # 读取对应的图片和mask\n",
    "    image_path = os.path.join(image_folder, mask_file.replace('.png', '.jpg'))  # 假设原图是jpg格式\n",
    "    mask_path = os.path.join(mask_folder, mask_file)\n",
    "    \n",
    "    if not os.path.exists(image_path):\n",
    "        print(f\"找不到对应的图片: {image_path}\")\n",
    "        continue\n",
    "        \n",
    "    # 读取图片和mask\n",
    "    image = cv2.imread(image_path)\n",
    "    mask = cv2.imread(mask_path, cv2.IMREAD_GRAYSCALE)\n",
    "    \n",
    "    # 创建彩色mask（使用红色）\n",
    "    colored_mask = np.zeros_like(image)\n",
    "    colored_mask[mask > 0] = [0, 0, 255]  # BGR格式，红色\n",
    "    \n",
    "    # 叠加mask到原图（透明度0.5）\n",
    "    alpha = 0.5\n",
    "    overlay = cv2.addWeighted(image, 1, colored_mask, alpha, 0)\n",
    "    \n",
    "    # 保存结果\n",
    "    output_path = os.path.join(output_folder, mask_file)\n",
    "    cv2.imwrite(output_path, overlay)\n",
    "\n",
    "print(\"处理完成！结果保存在:\", output_folder)"
   ]
  },
  {
   "cell_type": "code",
   "execution_count": null,
   "metadata": {},
   "outputs": [],
   "source": []
  }
 ],
 "metadata": {
  "kernelspec": {
   "display_name": "cruise",
   "language": "python",
   "name": "python3"
  },
  "language_info": {
   "codemirror_mode": {
    "name": "ipython",
    "version": 3
   },
   "file_extension": ".py",
   "mimetype": "text/x-python",
   "name": "python",
   "nbconvert_exporter": "python",
   "pygments_lexer": "ipython3",
   "version": "3.8.20"
  }
 },
 "nbformat": 4,
 "nbformat_minor": 2
}
